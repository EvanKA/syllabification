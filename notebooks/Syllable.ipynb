{
  "nbformat": 4,
  "nbformat_minor": 0,
  "metadata": {
    "colab": {
      "name": "Syllable",
      "provenance": [],
      "collapsed_sections": [],
      "authorship_tag": "ABX9TyM+ZDUx5KKPl1ipDfiBhdgm"
    },
    "kernelspec": {
      "name": "python3",
      "display_name": "Python 3"
    },
    "language_info": {
      "name": "python"
    },
    "accelerator": "GPU"
  },
  "cells": [
    {
      "cell_type": "markdown",
      "metadata": {
        "id": "CaKQj5AVhKR_"
      },
      "source": [
        "Syllable - Joseph Jojoe"
      ]
    },
    {
      "cell_type": "code",
      "metadata": {
        "colab": {
          "base_uri": "https://localhost:8080/"
        },
        "id": "pUgwfh0oKjss",
        "outputId": "e128ba9b-18ce-4a5f-af7e-7642c1b74007"
      },
      "source": [
        "!pip install tensorflow_addons"
      ],
      "execution_count": 1,
      "outputs": [
        {
          "output_type": "stream",
          "name": "stdout",
          "text": [
            "Collecting tensorflow_addons\n",
            "  Downloading tensorflow_addons-0.14.0-cp37-cp37m-manylinux_2_12_x86_64.manylinux2010_x86_64.whl (1.1 MB)\n",
            "\u001b[?25l\r\u001b[K     |▎                               | 10 kB 35.3 MB/s eta 0:00:01\r\u001b[K     |▋                               | 20 kB 42.1 MB/s eta 0:00:01\r\u001b[K     |▉                               | 30 kB 45.0 MB/s eta 0:00:01\r\u001b[K     |█▏                              | 40 kB 26.3 MB/s eta 0:00:01\r\u001b[K     |█▌                              | 51 kB 16.5 MB/s eta 0:00:01\r\u001b[K     |█▊                              | 61 kB 18.0 MB/s eta 0:00:01\r\u001b[K     |██                              | 71 kB 16.1 MB/s eta 0:00:01\r\u001b[K     |██▍                             | 81 kB 17.5 MB/s eta 0:00:01\r\u001b[K     |██▋                             | 92 kB 13.8 MB/s eta 0:00:01\r\u001b[K     |███                             | 102 kB 14.8 MB/s eta 0:00:01\r\u001b[K     |███▎                            | 112 kB 14.8 MB/s eta 0:00:01\r\u001b[K     |███▌                            | 122 kB 14.8 MB/s eta 0:00:01\r\u001b[K     |███▉                            | 133 kB 14.8 MB/s eta 0:00:01\r\u001b[K     |████▏                           | 143 kB 14.8 MB/s eta 0:00:01\r\u001b[K     |████▍                           | 153 kB 14.8 MB/s eta 0:00:01\r\u001b[K     |████▊                           | 163 kB 14.8 MB/s eta 0:00:01\r\u001b[K     |█████                           | 174 kB 14.8 MB/s eta 0:00:01\r\u001b[K     |█████▎                          | 184 kB 14.8 MB/s eta 0:00:01\r\u001b[K     |█████▋                          | 194 kB 14.8 MB/s eta 0:00:01\r\u001b[K     |██████                          | 204 kB 14.8 MB/s eta 0:00:01\r\u001b[K     |██████▏                         | 215 kB 14.8 MB/s eta 0:00:01\r\u001b[K     |██████▌                         | 225 kB 14.8 MB/s eta 0:00:01\r\u001b[K     |██████▉                         | 235 kB 14.8 MB/s eta 0:00:01\r\u001b[K     |███████                         | 245 kB 14.8 MB/s eta 0:00:01\r\u001b[K     |███████▍                        | 256 kB 14.8 MB/s eta 0:00:01\r\u001b[K     |███████▊                        | 266 kB 14.8 MB/s eta 0:00:01\r\u001b[K     |████████                        | 276 kB 14.8 MB/s eta 0:00:01\r\u001b[K     |████████▎                       | 286 kB 14.8 MB/s eta 0:00:01\r\u001b[K     |████████▋                       | 296 kB 14.8 MB/s eta 0:00:01\r\u001b[K     |████████▉                       | 307 kB 14.8 MB/s eta 0:00:01\r\u001b[K     |█████████▏                      | 317 kB 14.8 MB/s eta 0:00:01\r\u001b[K     |█████████▌                      | 327 kB 14.8 MB/s eta 0:00:01\r\u001b[K     |█████████▊                      | 337 kB 14.8 MB/s eta 0:00:01\r\u001b[K     |██████████                      | 348 kB 14.8 MB/s eta 0:00:01\r\u001b[K     |██████████▍                     | 358 kB 14.8 MB/s eta 0:00:01\r\u001b[K     |██████████▋                     | 368 kB 14.8 MB/s eta 0:00:01\r\u001b[K     |███████████                     | 378 kB 14.8 MB/s eta 0:00:01\r\u001b[K     |███████████▎                    | 389 kB 14.8 MB/s eta 0:00:01\r\u001b[K     |███████████▌                    | 399 kB 14.8 MB/s eta 0:00:01\r\u001b[K     |███████████▉                    | 409 kB 14.8 MB/s eta 0:00:01\r\u001b[K     |████████████▏                   | 419 kB 14.8 MB/s eta 0:00:01\r\u001b[K     |████████████▍                   | 430 kB 14.8 MB/s eta 0:00:01\r\u001b[K     |████████████▊                   | 440 kB 14.8 MB/s eta 0:00:01\r\u001b[K     |█████████████                   | 450 kB 14.8 MB/s eta 0:00:01\r\u001b[K     |█████████████▎                  | 460 kB 14.8 MB/s eta 0:00:01\r\u001b[K     |█████████████▋                  | 471 kB 14.8 MB/s eta 0:00:01\r\u001b[K     |██████████████                  | 481 kB 14.8 MB/s eta 0:00:01\r\u001b[K     |██████████████▏                 | 491 kB 14.8 MB/s eta 0:00:01\r\u001b[K     |██████████████▌                 | 501 kB 14.8 MB/s eta 0:00:01\r\u001b[K     |██████████████▉                 | 512 kB 14.8 MB/s eta 0:00:01\r\u001b[K     |███████████████                 | 522 kB 14.8 MB/s eta 0:00:01\r\u001b[K     |███████████████▍                | 532 kB 14.8 MB/s eta 0:00:01\r\u001b[K     |███████████████▊                | 542 kB 14.8 MB/s eta 0:00:01\r\u001b[K     |████████████████                | 552 kB 14.8 MB/s eta 0:00:01\r\u001b[K     |████████████████▎               | 563 kB 14.8 MB/s eta 0:00:01\r\u001b[K     |████████████████▋               | 573 kB 14.8 MB/s eta 0:00:01\r\u001b[K     |████████████████▉               | 583 kB 14.8 MB/s eta 0:00:01\r\u001b[K     |█████████████████▏              | 593 kB 14.8 MB/s eta 0:00:01\r\u001b[K     |█████████████████▌              | 604 kB 14.8 MB/s eta 0:00:01\r\u001b[K     |█████████████████▊              | 614 kB 14.8 MB/s eta 0:00:01\r\u001b[K     |██████████████████              | 624 kB 14.8 MB/s eta 0:00:01\r\u001b[K     |██████████████████▍             | 634 kB 14.8 MB/s eta 0:00:01\r\u001b[K     |██████████████████▋             | 645 kB 14.8 MB/s eta 0:00:01\r\u001b[K     |███████████████████             | 655 kB 14.8 MB/s eta 0:00:01\r\u001b[K     |███████████████████▎            | 665 kB 14.8 MB/s eta 0:00:01\r\u001b[K     |███████████████████▌            | 675 kB 14.8 MB/s eta 0:00:01\r\u001b[K     |███████████████████▉            | 686 kB 14.8 MB/s eta 0:00:01\r\u001b[K     |████████████████████▏           | 696 kB 14.8 MB/s eta 0:00:01\r\u001b[K     |████████████████████▍           | 706 kB 14.8 MB/s eta 0:00:01\r\u001b[K     |████████████████████▊           | 716 kB 14.8 MB/s eta 0:00:01\r\u001b[K     |█████████████████████           | 727 kB 14.8 MB/s eta 0:00:01\r\u001b[K     |█████████████████████▎          | 737 kB 14.8 MB/s eta 0:00:01\r\u001b[K     |█████████████████████▋          | 747 kB 14.8 MB/s eta 0:00:01\r\u001b[K     |██████████████████████          | 757 kB 14.8 MB/s eta 0:00:01\r\u001b[K     |██████████████████████▏         | 768 kB 14.8 MB/s eta 0:00:01\r\u001b[K     |██████████████████████▌         | 778 kB 14.8 MB/s eta 0:00:01\r\u001b[K     |██████████████████████▉         | 788 kB 14.8 MB/s eta 0:00:01\r\u001b[K     |███████████████████████         | 798 kB 14.8 MB/s eta 0:00:01\r\u001b[K     |███████████████████████▍        | 808 kB 14.8 MB/s eta 0:00:01\r\u001b[K     |███████████████████████▊        | 819 kB 14.8 MB/s eta 0:00:01\r\u001b[K     |████████████████████████        | 829 kB 14.8 MB/s eta 0:00:01\r\u001b[K     |████████████████████████▎       | 839 kB 14.8 MB/s eta 0:00:01\r\u001b[K     |████████████████████████▋       | 849 kB 14.8 MB/s eta 0:00:01\r\u001b[K     |████████████████████████▉       | 860 kB 14.8 MB/s eta 0:00:01\r\u001b[K     |█████████████████████████▏      | 870 kB 14.8 MB/s eta 0:00:01\r\u001b[K     |█████████████████████████▍      | 880 kB 14.8 MB/s eta 0:00:01\r\u001b[K     |█████████████████████████▊      | 890 kB 14.8 MB/s eta 0:00:01\r\u001b[K     |██████████████████████████      | 901 kB 14.8 MB/s eta 0:00:01\r\u001b[K     |██████████████████████████▎     | 911 kB 14.8 MB/s eta 0:00:01\r\u001b[K     |██████████████████████████▋     | 921 kB 14.8 MB/s eta 0:00:01\r\u001b[K     |███████████████████████████     | 931 kB 14.8 MB/s eta 0:00:01\r\u001b[K     |███████████████████████████▏    | 942 kB 14.8 MB/s eta 0:00:01\r\u001b[K     |███████████████████████████▌    | 952 kB 14.8 MB/s eta 0:00:01\r\u001b[K     |███████████████████████████▉    | 962 kB 14.8 MB/s eta 0:00:01\r\u001b[K     |████████████████████████████    | 972 kB 14.8 MB/s eta 0:00:01\r\u001b[K     |████████████████████████████▍   | 983 kB 14.8 MB/s eta 0:00:01\r\u001b[K     |████████████████████████████▊   | 993 kB 14.8 MB/s eta 0:00:01\r\u001b[K     |█████████████████████████████   | 1.0 MB 14.8 MB/s eta 0:00:01\r\u001b[K     |█████████████████████████████▎  | 1.0 MB 14.8 MB/s eta 0:00:01\r\u001b[K     |█████████████████████████████▋  | 1.0 MB 14.8 MB/s eta 0:00:01\r\u001b[K     |█████████████████████████████▉  | 1.0 MB 14.8 MB/s eta 0:00:01\r\u001b[K     |██████████████████████████████▏ | 1.0 MB 14.8 MB/s eta 0:00:01\r\u001b[K     |██████████████████████████████▌ | 1.1 MB 14.8 MB/s eta 0:00:01\r\u001b[K     |██████████████████████████████▊ | 1.1 MB 14.8 MB/s eta 0:00:01\r\u001b[K     |███████████████████████████████ | 1.1 MB 14.8 MB/s eta 0:00:01\r\u001b[K     |███████████████████████████████▍| 1.1 MB 14.8 MB/s eta 0:00:01\r\u001b[K     |███████████████████████████████▋| 1.1 MB 14.8 MB/s eta 0:00:01\r\u001b[K     |████████████████████████████████| 1.1 MB 14.8 MB/s eta 0:00:01\r\u001b[K     |████████████████████████████████| 1.1 MB 14.8 MB/s \n",
            "\u001b[?25hRequirement already satisfied: typeguard>=2.7 in /usr/local/lib/python3.7/dist-packages (from tensorflow_addons) (2.7.1)\n",
            "Installing collected packages: tensorflow-addons\n",
            "Successfully installed tensorflow-addons-0.14.0\n"
          ]
        }
      ]
    },
    {
      "cell_type": "code",
      "metadata": {
        "id": "csu57YRLhUPe"
      },
      "source": [
        "# Imports dependencies\n",
        "from google.colab import files\n",
        "import tensorflow as tf\n",
        "from tensorflow import keras\n",
        "from tensorflow.keras import layers\n",
        "import tensorflow_addons as tfa\n",
        "from tensorflow.keras import regularizers\n",
        "from keras.models import Model\n",
        "import pathlib\n",
        "import os\n",
        "import matplotlib.pyplot as plt\n",
        "import pandas as pd\n",
        "import numpy as np\n",
        "import string\n",
        "import random\n",
        "from keras.preprocessing.text import Tokenizer"
      ],
      "execution_count": 2,
      "outputs": []
    },
    {
      "cell_type": "code",
      "metadata": {
        "colab": {
          "resources": {
            "http://localhost:8080/nbextensions/google.colab/files.js": {
              "data": "Ly8gQ29weXJpZ2h0IDIwMTcgR29vZ2xlIExMQwovLwovLyBMaWNlbnNlZCB1bmRlciB0aGUgQXBhY2hlIExpY2Vuc2UsIFZlcnNpb24gMi4wICh0aGUgIkxpY2Vuc2UiKTsKLy8geW91IG1heSBub3QgdXNlIHRoaXMgZmlsZSBleGNlcHQgaW4gY29tcGxpYW5jZSB3aXRoIHRoZSBMaWNlbnNlLgovLyBZb3UgbWF5IG9idGFpbiBhIGNvcHkgb2YgdGhlIExpY2Vuc2UgYXQKLy8KLy8gICAgICBodHRwOi8vd3d3LmFwYWNoZS5vcmcvbGljZW5zZXMvTElDRU5TRS0yLjAKLy8KLy8gVW5sZXNzIHJlcXVpcmVkIGJ5IGFwcGxpY2FibGUgbGF3IG9yIGFncmVlZCB0byBpbiB3cml0aW5nLCBzb2Z0d2FyZQovLyBkaXN0cmlidXRlZCB1bmRlciB0aGUgTGljZW5zZSBpcyBkaXN0cmlidXRlZCBvbiBhbiAiQVMgSVMiIEJBU0lTLAovLyBXSVRIT1VUIFdBUlJBTlRJRVMgT1IgQ09ORElUSU9OUyBPRiBBTlkgS0lORCwgZWl0aGVyIGV4cHJlc3Mgb3IgaW1wbGllZC4KLy8gU2VlIHRoZSBMaWNlbnNlIGZvciB0aGUgc3BlY2lmaWMgbGFuZ3VhZ2UgZ292ZXJuaW5nIHBlcm1pc3Npb25zIGFuZAovLyBsaW1pdGF0aW9ucyB1bmRlciB0aGUgTGljZW5zZS4KCi8qKgogKiBAZmlsZW92ZXJ2aWV3IEhlbHBlcnMgZm9yIGdvb2dsZS5jb2xhYiBQeXRob24gbW9kdWxlLgogKi8KKGZ1bmN0aW9uKHNjb3BlKSB7CmZ1bmN0aW9uIHNwYW4odGV4dCwgc3R5bGVBdHRyaWJ1dGVzID0ge30pIHsKICBjb25zdCBlbGVtZW50ID0gZG9jdW1lbnQuY3JlYXRlRWxlbWVudCgnc3BhbicpOwogIGVsZW1lbnQudGV4dENvbnRlbnQgPSB0ZXh0OwogIGZvciAoY29uc3Qga2V5IG9mIE9iamVjdC5rZXlzKHN0eWxlQXR0cmlidXRlcykpIHsKICAgIGVsZW1lbnQuc3R5bGVba2V5XSA9IHN0eWxlQXR0cmlidXRlc1trZXldOwogIH0KICByZXR1cm4gZWxlbWVudDsKfQoKLy8gTWF4IG51bWJlciBvZiBieXRlcyB3aGljaCB3aWxsIGJlIHVwbG9hZGVkIGF0IGEgdGltZS4KY29uc3QgTUFYX1BBWUxPQURfU0laRSA9IDEwMCAqIDEwMjQ7CgpmdW5jdGlvbiBfdXBsb2FkRmlsZXMoaW5wdXRJZCwgb3V0cHV0SWQpIHsKICBjb25zdCBzdGVwcyA9IHVwbG9hZEZpbGVzU3RlcChpbnB1dElkLCBvdXRwdXRJZCk7CiAgY29uc3Qgb3V0cHV0RWxlbWVudCA9IGRvY3VtZW50LmdldEVsZW1lbnRCeUlkKG91dHB1dElkKTsKICAvLyBDYWNoZSBzdGVwcyBvbiB0aGUgb3V0cHV0RWxlbWVudCB0byBtYWtlIGl0IGF2YWlsYWJsZSBmb3IgdGhlIG5leHQgY2FsbAogIC8vIHRvIHVwbG9hZEZpbGVzQ29udGludWUgZnJvbSBQeXRob24uCiAgb3V0cHV0RWxlbWVudC5zdGVwcyA9IHN0ZXBzOwoKICByZXR1cm4gX3VwbG9hZEZpbGVzQ29udGludWUob3V0cHV0SWQpOwp9CgovLyBUaGlzIGlzIHJvdWdobHkgYW4gYXN5bmMgZ2VuZXJhdG9yIChub3Qgc3VwcG9ydGVkIGluIHRoZSBicm93c2VyIHlldCksCi8vIHdoZXJlIHRoZXJlIGFyZSBtdWx0aXBsZSBhc3luY2hyb25vdXMgc3RlcHMgYW5kIHRoZSBQeXRob24gc2lkZSBpcyBnb2luZwovLyB0byBwb2xsIGZvciBjb21wbGV0aW9uIG9mIGVhY2ggc3RlcC4KLy8gVGhpcyB1c2VzIGEgUHJvbWlzZSB0byBibG9jayB0aGUgcHl0aG9uIHNpZGUgb24gY29tcGxldGlvbiBvZiBlYWNoIHN0ZXAsCi8vIHRoZW4gcGFzc2VzIHRoZSByZXN1bHQgb2YgdGhlIHByZXZpb3VzIHN0ZXAgYXMgdGhlIGlucHV0IHRvIHRoZSBuZXh0IHN0ZXAuCmZ1bmN0aW9uIF91cGxvYWRGaWxlc0NvbnRpbnVlKG91dHB1dElkKSB7CiAgY29uc3Qgb3V0cHV0RWxlbWVudCA9IGRvY3VtZW50LmdldEVsZW1lbnRCeUlkKG91dHB1dElkKTsKICBjb25zdCBzdGVwcyA9IG91dHB1dEVsZW1lbnQuc3RlcHM7CgogIGNvbnN0IG5leHQgPSBzdGVwcy5uZXh0KG91dHB1dEVsZW1lbnQubGFzdFByb21pc2VWYWx1ZSk7CiAgcmV0dXJuIFByb21pc2UucmVzb2x2ZShuZXh0LnZhbHVlLnByb21pc2UpLnRoZW4oKHZhbHVlKSA9PiB7CiAgICAvLyBDYWNoZSB0aGUgbGFzdCBwcm9taXNlIHZhbHVlIHRvIG1ha2UgaXQgYXZhaWxhYmxlIHRvIHRoZSBuZXh0CiAgICAvLyBzdGVwIG9mIHRoZSBnZW5lcmF0b3IuCiAgICBvdXRwdXRFbGVtZW50Lmxhc3RQcm9taXNlVmFsdWUgPSB2YWx1ZTsKICAgIHJldHVybiBuZXh0LnZhbHVlLnJlc3BvbnNlOwogIH0pOwp9CgovKioKICogR2VuZXJhdG9yIGZ1bmN0aW9uIHdoaWNoIGlzIGNhbGxlZCBiZXR3ZWVuIGVhY2ggYXN5bmMgc3RlcCBvZiB0aGUgdXBsb2FkCiAqIHByb2Nlc3MuCiAqIEBwYXJhbSB7c3RyaW5nfSBpbnB1dElkIEVsZW1lbnQgSUQgb2YgdGhlIGlucHV0IGZpbGUgcGlja2VyIGVsZW1lbnQuCiAqIEBwYXJhbSB7c3RyaW5nfSBvdXRwdXRJZCBFbGVtZW50IElEIG9mIHRoZSBvdXRwdXQgZGlzcGxheS4KICogQHJldHVybiB7IUl0ZXJhYmxlPCFPYmplY3Q+fSBJdGVyYWJsZSBvZiBuZXh0IHN0ZXBzLgogKi8KZnVuY3Rpb24qIHVwbG9hZEZpbGVzU3RlcChpbnB1dElkLCBvdXRwdXRJZCkgewogIGNvbnN0IGlucHV0RWxlbWVudCA9IGRvY3VtZW50LmdldEVsZW1lbnRCeUlkKGlucHV0SWQpOwogIGlucHV0RWxlbWVudC5kaXNhYmxlZCA9IGZhbHNlOwoKICBjb25zdCBvdXRwdXRFbGVtZW50ID0gZG9jdW1lbnQuZ2V0RWxlbWVudEJ5SWQob3V0cHV0SWQpOwogIG91dHB1dEVsZW1lbnQuaW5uZXJIVE1MID0gJyc7CgogIGNvbnN0IHBpY2tlZFByb21pc2UgPSBuZXcgUHJvbWlzZSgocmVzb2x2ZSkgPT4gewogICAgaW5wdXRFbGVtZW50LmFkZEV2ZW50TGlzdGVuZXIoJ2NoYW5nZScsIChlKSA9PiB7CiAgICAgIHJlc29sdmUoZS50YXJnZXQuZmlsZXMpOwogICAgfSk7CiAgfSk7CgogIGNvbnN0IGNhbmNlbCA9IGRvY3VtZW50LmNyZWF0ZUVsZW1lbnQoJ2J1dHRvbicpOwogIGlucHV0RWxlbWVudC5wYXJlbnRFbGVtZW50LmFwcGVuZENoaWxkKGNhbmNlbCk7CiAgY2FuY2VsLnRleHRDb250ZW50ID0gJ0NhbmNlbCB1cGxvYWQnOwogIGNvbnN0IGNhbmNlbFByb21pc2UgPSBuZXcgUHJvbWlzZSgocmVzb2x2ZSkgPT4gewogICAgY2FuY2VsLm9uY2xpY2sgPSAoKSA9PiB7CiAgICAgIHJlc29sdmUobnVsbCk7CiAgICB9OwogIH0pOwoKICAvLyBXYWl0IGZvciB0aGUgdXNlciB0byBwaWNrIHRoZSBmaWxlcy4KICBjb25zdCBmaWxlcyA9IHlpZWxkIHsKICAgIHByb21pc2U6IFByb21pc2UucmFjZShbcGlja2VkUHJvbWlzZSwgY2FuY2VsUHJvbWlzZV0pLAogICAgcmVzcG9uc2U6IHsKICAgICAgYWN0aW9uOiAnc3RhcnRpbmcnLAogICAgfQogIH07CgogIGNhbmNlbC5yZW1vdmUoKTsKCiAgLy8gRGlzYWJsZSB0aGUgaW5wdXQgZWxlbWVudCBzaW5jZSBmdXJ0aGVyIHBpY2tzIGFyZSBub3QgYWxsb3dlZC4KICBpbnB1dEVsZW1lbnQuZGlzYWJsZWQgPSB0cnVlOwoKICBpZiAoIWZpbGVzKSB7CiAgICByZXR1cm4gewogICAgICByZXNwb25zZTogewogICAgICAgIGFjdGlvbjogJ2NvbXBsZXRlJywKICAgICAgfQogICAgfTsKICB9CgogIGZvciAoY29uc3QgZmlsZSBvZiBmaWxlcykgewogICAgY29uc3QgbGkgPSBkb2N1bWVudC5jcmVhdGVFbGVtZW50KCdsaScpOwogICAgbGkuYXBwZW5kKHNwYW4oZmlsZS5uYW1lLCB7Zm9udFdlaWdodDogJ2JvbGQnfSkpOwogICAgbGkuYXBwZW5kKHNwYW4oCiAgICAgICAgYCgke2ZpbGUudHlwZSB8fCAnbi9hJ30pIC0gJHtmaWxlLnNpemV9IGJ5dGVzLCBgICsKICAgICAgICBgbGFzdCBtb2RpZmllZDogJHsKICAgICAgICAgICAgZmlsZS5sYXN0TW9kaWZpZWREYXRlID8gZmlsZS5sYXN0TW9kaWZpZWREYXRlLnRvTG9jYWxlRGF0ZVN0cmluZygpIDoKICAgICAgICAgICAgICAgICAgICAgICAgICAgICAgICAgICAgJ24vYSd9IC0gYCkpOwogICAgY29uc3QgcGVyY2VudCA9IHNwYW4oJzAlIGRvbmUnKTsKICAgIGxpLmFwcGVuZENoaWxkKHBlcmNlbnQpOwoKICAgIG91dHB1dEVsZW1lbnQuYXBwZW5kQ2hpbGQobGkpOwoKICAgIGNvbnN0IGZpbGVEYXRhUHJvbWlzZSA9IG5ldyBQcm9taXNlKChyZXNvbHZlKSA9PiB7CiAgICAgIGNvbnN0IHJlYWRlciA9IG5ldyBGaWxlUmVhZGVyKCk7CiAgICAgIHJlYWRlci5vbmxvYWQgPSAoZSkgPT4gewogICAgICAgIHJlc29sdmUoZS50YXJnZXQucmVzdWx0KTsKICAgICAgfTsKICAgICAgcmVhZGVyLnJlYWRBc0FycmF5QnVmZmVyKGZpbGUpOwogICAgfSk7CiAgICAvLyBXYWl0IGZvciB0aGUgZGF0YSB0byBiZSByZWFkeS4KICAgIGxldCBmaWxlRGF0YSA9IHlpZWxkIHsKICAgICAgcHJvbWlzZTogZmlsZURhdGFQcm9taXNlLAogICAgICByZXNwb25zZTogewogICAgICAgIGFjdGlvbjogJ2NvbnRpbnVlJywKICAgICAgfQogICAgfTsKCiAgICAvLyBVc2UgYSBjaHVua2VkIHNlbmRpbmcgdG8gYXZvaWQgbWVzc2FnZSBzaXplIGxpbWl0cy4gU2VlIGIvNjIxMTU2NjAuCiAgICBsZXQgcG9zaXRpb24gPSAwOwogICAgZG8gewogICAgICBjb25zdCBsZW5ndGggPSBNYXRoLm1pbihmaWxlRGF0YS5ieXRlTGVuZ3RoIC0gcG9zaXRpb24sIE1BWF9QQVlMT0FEX1NJWkUpOwogICAgICBjb25zdCBjaHVuayA9IG5ldyBVaW50OEFycmF5KGZpbGVEYXRhLCBwb3NpdGlvbiwgbGVuZ3RoKTsKICAgICAgcG9zaXRpb24gKz0gbGVuZ3RoOwoKICAgICAgY29uc3QgYmFzZTY0ID0gYnRvYShTdHJpbmcuZnJvbUNoYXJDb2RlLmFwcGx5KG51bGwsIGNodW5rKSk7CiAgICAgIHlpZWxkIHsKICAgICAgICByZXNwb25zZTogewogICAgICAgICAgYWN0aW9uOiAnYXBwZW5kJywKICAgICAgICAgIGZpbGU6IGZpbGUubmFtZSwKICAgICAgICAgIGRhdGE6IGJhc2U2NCwKICAgICAgICB9LAogICAgICB9OwoKICAgICAgbGV0IHBlcmNlbnREb25lID0gZmlsZURhdGEuYnl0ZUxlbmd0aCA9PT0gMCA/CiAgICAgICAgICAxMDAgOgogICAgICAgICAgTWF0aC5yb3VuZCgocG9zaXRpb24gLyBmaWxlRGF0YS5ieXRlTGVuZ3RoKSAqIDEwMCk7CiAgICAgIHBlcmNlbnQudGV4dENvbnRlbnQgPSBgJHtwZXJjZW50RG9uZX0lIGRvbmVgOwoKICAgIH0gd2hpbGUgKHBvc2l0aW9uIDwgZmlsZURhdGEuYnl0ZUxlbmd0aCk7CiAgfQoKICAvLyBBbGwgZG9uZS4KICB5aWVsZCB7CiAgICByZXNwb25zZTogewogICAgICBhY3Rpb246ICdjb21wbGV0ZScsCiAgICB9CiAgfTsKfQoKc2NvcGUuZ29vZ2xlID0gc2NvcGUuZ29vZ2xlIHx8IHt9OwpzY29wZS5nb29nbGUuY29sYWIgPSBzY29wZS5nb29nbGUuY29sYWIgfHwge307CnNjb3BlLmdvb2dsZS5jb2xhYi5fZmlsZXMgPSB7CiAgX3VwbG9hZEZpbGVzLAogIF91cGxvYWRGaWxlc0NvbnRpbnVlLAp9Owp9KShzZWxmKTsK",
              "ok": true,
              "headers": [
                [
                  "content-type",
                  "application/javascript"
                ]
              ],
              "status": 200,
              "status_text": ""
            }
          },
          "base_uri": "https://localhost:8080/",
          "height": 73
        },
        "id": "jpAxHCsohese",
        "outputId": "376204db-1388-447e-f1ad-63905fdce326"
      },
      "source": [
        "uploaded = files.upload()\n",
        "# Upload dataset"
      ],
      "execution_count": 3,
      "outputs": [
        {
          "output_type": "display_data",
          "data": {
            "text/html": [
              "\n",
              "     <input type=\"file\" id=\"files-d224c778-fbbc-4d31-ba7d-6911ebe000d3\" name=\"files[]\" multiple disabled\n",
              "        style=\"border:none\" />\n",
              "     <output id=\"result-d224c778-fbbc-4d31-ba7d-6911ebe000d3\">\n",
              "      Upload widget is only available when the cell has been executed in the\n",
              "      current browser session. Please rerun this cell to enable.\n",
              "      </output>\n",
              "      <script src=\"/nbextensions/google.colab/files.js\"></script> "
            ],
            "text/plain": [
              "<IPython.core.display.HTML object>"
            ]
          },
          "metadata": {}
        },
        {
          "output_type": "stream",
          "name": "stdout",
          "text": [
            "Saving preprocessed.txt to preprocessed.txt\n"
          ]
        }
      ]
    },
    {
      "cell_type": "code",
      "metadata": {
        "id": "vjbfSUbohytB"
      },
      "source": [
        "# Loads in syllable data\n",
        "dataframe = pd.read_csv(\"preprocessed.txt\",\n",
        "                        sep=\",\",\n",
        "                        encoding=\"ISO-8859-1\",\n",
        "                        names=[\"word\", \"label\"])\n",
        "# Necessary to specify str type for pandas columns\n",
        "dataframe = dataframe.astype(str)\n",
        "words = dataframe['word'].tolist()\n",
        "labels = dataframe['label'].tolist()\n",
        "# Converts each label to numpy array\n",
        "for i in range(0, len(labels)):\n",
        "    labels[i] = list(labels[i])\n",
        "    for j in range(0, len(labels[i])):\n",
        "        labels[i][j] = int(labels[i][j])\n",
        "for i in range(0, len(labels)):\n",
        "    labels[i] = np.array(labels[i])"
      ],
      "execution_count": 4,
      "outputs": []
    },
    {
      "cell_type": "code",
      "metadata": {
        "id": "6gDS7CtLiAIj"
      },
      "source": [
        "# Vectorises syllable strings by treating each character as a token\n",
        "tokenizer = Tokenizer(char_level=True)\n",
        "tokenizer.fit_on_texts(words)\n",
        "words = tokenizer.texts_to_sequences(words)\n",
        "for i in range(0, len(words)):\n",
        "    words[i] = np.array(words[i], dtype=float)\n",
        "\n",
        "padded_inputs = tf.keras.preprocessing.sequence.pad_sequences(\n",
        "    words, padding=\"post\", maxlen=15\n",
        ")\n",
        "padded_outputs = tf.keras.preprocessing.sequence.pad_sequences(\n",
        "    labels, padding=\"post\", maxlen=15\n",
        ")\n",
        "\n",
        "# Normalisation\n",
        "maximum_token = 64\n",
        "for element in range(0, len(words)):\n",
        "    words[element] = words[element] / maximum_token"
      ],
      "execution_count": 5,
      "outputs": []
    },
    {
      "cell_type": "code",
      "metadata": {
        "id": "jgZKQGe1iFpj"
      },
      "source": [
        "# shuffles data\n",
        "seed = random.random()\n",
        "random.seed(seed)\n",
        "random.shuffle(padded_inputs)\n",
        "random.seed(seed)\n",
        "random.shuffle(padded_outputs)\n",
        "\n",
        "# splits into training and validation sets (80-20 split)\n",
        "validation_inputs = padded_inputs[-35497:]\n",
        "validation_outputs = padded_outputs[-35497:]\n",
        "padded_inputs = padded_inputs[:-35497]\n",
        "padded_outputs = padded_outputs[:-35497]"
      ],
      "execution_count": 6,
      "outputs": []
    },
    {
      "cell_type": "code",
      "metadata": {
        "id": "YQezB-7cRHOC"
      },
      "source": [
        "# Custom loss function - mean of binary crossentropy and mean squared error\n",
        "def mean_weighted_bce_mse(y_true, y_prediction):\n",
        "    y_true = tf.cast(y_true, tf.float32)\n",
        "    y_prediction = tf.cast(y_prediction, tf.float32)\n",
        "\n",
        "    # Binary crossentropy with weighting\n",
        "    epsilon = 1e-6\n",
        "    positive_weight = 4.108897148948174\n",
        "    loss_positive = y_true * tf.math.log(y_prediction + epsilon)\n",
        "    loss_negative = (1 - y_true) * tf.math.log(1 - y_prediction + epsilon)\n",
        "    bce_loss = tf.math.reduce_mean(tf.math.negative(positive_weight * loss_positive + loss_negative))\n",
        "    \n",
        "    # Mean squared error\n",
        "    mse = tf.keras.losses.MeanSquaredError()\n",
        "    mse_loss = mse(y_true, y_prediction)\n",
        "\n",
        "    averaged_bce_mse = (bce_loss + mse_loss) / 2\n",
        "    return averaged_bce_mse"
      ],
      "execution_count": 7,
      "outputs": []
    },
    {
      "cell_type": "code",
      "metadata": {
        "id": "Df2UpqpKl16x"
      },
      "source": [
        "def inception_module(inputs):\n",
        "    inception_branch_1 = tf.keras.layers.Conv1D(128, kernel_size=1, strides=2, activation=\"tanh\", activity_regularizer=tf.keras.regularizers.l2(1e-5))(inputs)\n",
        "    inception_branch_1 = tf.keras.layers.ZeroPadding1D(padding=(0, 15 - inception_branch_1.shape[1]))(inception_branch_1)\n",
        "\n",
        "    inception_branch_2 = tf.keras.layers.Conv1D(128, kernel_size=1, activation=\"tanh\", activity_regularizer=tf.keras.regularizers.l2(1e-5))(inputs)\n",
        "    inception_branch_2 = tf.keras.layers.Conv1D(128, kernel_size=3, strides=2, activation=\"tanh\", activity_regularizer=tf.keras.regularizers.l2(1e-5))(inception_branch_2)\n",
        "    inception_branch_2 = tf.keras.layers.ZeroPadding1D(padding=(0, 15 - inception_branch_2.shape[1]))(inception_branch_2)\n",
        "\n",
        "    inception_branch_3 = tf.keras.layers.AveragePooling1D(pool_size=3, strides=2)(inputs)\n",
        "    inception_branch_3 = tf.keras.layers.Conv1D(128, kernel_size=3, activation=\"tanh\", activity_regularizer=tf.keras.regularizers.l2(1e-5))(inception_branch_3)\n",
        "    inception_branch_3 = tf.keras.layers.ZeroPadding1D(padding=(0, 15 - inception_branch_3.shape[1]))(inception_branch_3)\n",
        "\n",
        "    inception_branch_4 = tf.keras.layers.Conv1D(128, kernel_size=1, activation=\"tanh\", activity_regularizer=tf.keras.regularizers.l2(1e-5))(inputs)\n",
        "    inception_branch_4 = tf.keras.layers.Conv1D(128, kernel_size=3, activation=\"tanh\", activity_regularizer=tf.keras.regularizers.l2(1e-5))(inception_branch_4)\n",
        "    inception_branch_4 = tf.keras.layers.Conv1D(128, kernel_size=3, strides=2, activation=\"tanh\", activity_regularizer=tf.keras.regularizers.l2(1e-5))(inception_branch_4)\n",
        "    inception_branch_4 = tf.keras.layers.ZeroPadding1D(padding=(0, 15 - inception_branch_4.shape[1]))(inception_branch_4)\n",
        "\n",
        "    inception_output = tf.keras.layers.concatenate([inception_branch_1, inception_branch_2, inception_branch_3, inception_branch_4, inputs])\n",
        "    return inception_output"
      ],
      "execution_count": 8,
      "outputs": []
    },
    {
      "cell_type": "code",
      "metadata": {
        "id": "EOip602ziQok"
      },
      "source": [
        "inputs = tf.keras.Input(shape=(15,))\n",
        "embedded_inputs = tf.keras.layers.Embedding(64, 256, mask_zero=True)(inputs)\n",
        "embedded_inputs = tf.keras.layers.Dropout(0.25)(embedded_inputs)\n",
        "\n",
        "x = tf.keras.layers.Bidirectional(tf.keras.layers.GRU(256, return_sequences=True, dropout=0.1, activity_regularizer=tf.keras.regularizers.l2(1e-5)))(embedded_inputs)\n",
        "x = tf.keras.layers.concatenate([x, embedded_inputs])\n",
        "x = tf.keras.layers.Bidirectional(tf.keras.layers.GRU(256, return_sequences=True, dropout=0.1, activity_regularizer=tf.keras.regularizers.l2(1e-5)))(x)\n",
        "x = tf.keras.layers.concatenate([x, embedded_inputs])\n",
        "x = tf.keras.layers.Bidirectional(tf.keras.layers.GRU(256, return_sequences=True, activity_regularizer=tf.keras.regularizers.l2(1e-5)))(x)\n",
        "\n",
        "inception_output = inception_module(embedded_inputs)\n",
        "inception_output = tf.keras.layers.MaxPooling1D()(inception_output)\n",
        "inception_output =  tf.keras.layers.ZeroPadding1D(padding=(0, 15 - inception_output.shape[1]))(inception_output)\n",
        "inception_output = tf.keras.layers.Dropout(0.5)(inception_output)\n",
        "inception_output = inception_module(inception_output)\n",
        "inception_output = tf.keras.layers.MaxPooling1D()(inception_output)\n",
        "inception_output =  tf.keras.layers.ZeroPadding1D(padding=(0, 15 - inception_output.shape[1]))(inception_output)\n",
        "\n",
        "output = tf.keras.layers.concatenate([x, inception_output, embedded_inputs])\n",
        "output = tf.keras.layers.TimeDistributed(tf.keras.layers.Dense(256, activation=\"relu\"))(output)\n",
        "output = tf.keras.layers.TimeDistributed(tf.keras.layers.Dense(64, activation=\"relu\"))(output)\n",
        "output = tf.keras.layers.GlobalMaxPool1D()(output)\n",
        "output = tf.keras.layers.Dense(15, activation=\"sigmoid\")(output)\n",
        "\n",
        "metrics = [\"binary_accuracy\",\n",
        "           tfa.metrics.F1Score(num_classes=15, threshold=0.5),\n",
        "           tfa.metrics.HammingLoss(mode='multilabel', threshold=0.5),\n",
        "           tf.keras.metrics.Recall(),\n",
        "           tf.keras.metrics.Precision(),\n",
        "           tf.keras.metrics.AUC(multi_label=True, num_labels=15)]\n",
        "\n",
        "model = tf.keras.models.Model(inputs=inputs, outputs=output)\n",
        "model.compile(optimizer=\"adam\",\n",
        "              loss=mean_weighted_bce_mse,\n",
        "              metrics=metrics,\n",
        "              steps_per_execution=128)"
      ],
      "execution_count": 9,
      "outputs": []
    },
    {
      "cell_type": "code",
      "metadata": {
        "id": "rM_seEmJg7ux"
      },
      "source": [
        "model.summary()"
      ],
      "execution_count": null,
      "outputs": []
    },
    {
      "cell_type": "code",
      "metadata": {
        "colab": {
          "base_uri": "https://localhost:8080/"
        },
        "id": "5_CQt-B_ibtm",
        "outputId": "108509b1-5397-4c3a-e39a-4d9902386cea"
      },
      "source": [
        "history = model.fit(padded_inputs,\n",
        "                    padded_outputs,\n",
        "                    validation_data=(validation_inputs, validation_outputs),\n",
        "                    epochs=50,\n",
        "                    batch_size=64)"
      ],
      "execution_count": 10,
      "outputs": [
        {
          "output_type": "stream",
          "name": "stdout",
          "text": [
            "Epoch 1/50\n",
            "2219/2219 [==============================] - 159s 71ms/step - loss: 0.1738 - binary_accuracy: 0.9222 - f1_score: 0.6357 - hamming_loss: 0.0778 - recall: 0.8981 - precision: 0.6479 - auc: 0.8956 - val_loss: 0.1376 - val_binary_accuracy: 0.9463 - val_f1_score: 0.7415 - val_hamming_loss: 0.0537 - val_recall: 0.9293 - val_precision: 0.7621 - val_auc: 0.9160\n",
            "Epoch 2/50\n",
            "2219/2219 [==============================] - 94s 42ms/step - loss: 0.1078 - binary_accuracy: 0.9593 - f1_score: 0.7698 - hamming_loss: 0.0407 - recall: 0.9407 - precision: 0.7906 - auc: 0.9174 - val_loss: 0.1085 - val_binary_accuracy: 0.9586 - val_f1_score: 0.7849 - val_hamming_loss: 0.0414 - val_recall: 0.9514 - val_precision: 0.8058 - val_auc: 0.9230\n",
            "Epoch 3/50\n",
            "2219/2219 [==============================] - 94s 42ms/step - loss: 0.0803 - binary_accuracy: 0.9718 - f1_score: 0.8095 - hamming_loss: 0.0282 - recall: 0.9581 - precision: 0.8478 - auc: 0.9265 - val_loss: 0.0950 - val_binary_accuracy: 0.9692 - val_f1_score: 0.8055 - val_hamming_loss: 0.0308 - val_recall: 0.9507 - val_precision: 0.8582 - val_auc: 0.9230\n",
            "Epoch 4/50\n",
            "2219/2219 [==============================] - 94s 42ms/step - loss: 0.0630 - binary_accuracy: 0.9793 - f1_score: 0.8373 - hamming_loss: 0.0207 - recall: 0.9689 - precision: 0.8849 - auc: 0.9287 - val_loss: 0.0916 - val_binary_accuracy: 0.9728 - val_f1_score: 0.8290 - val_hamming_loss: 0.0272 - val_recall: 0.9543 - val_precision: 0.8744 - val_auc: 0.9247\n",
            "Epoch 5/50\n",
            "2219/2219 [==============================] - 94s 42ms/step - loss: 0.0520 - binary_accuracy: 0.9839 - f1_score: 0.8542 - hamming_loss: 0.0161 - recall: 0.9758 - precision: 0.9091 - auc: 0.9295 - val_loss: 0.0867 - val_binary_accuracy: 0.9751 - val_f1_score: 0.8375 - val_hamming_loss: 0.0249 - val_recall: 0.9587 - val_precision: 0.8838 - val_auc: 0.9218\n",
            "Epoch 6/50\n",
            "2219/2219 [==============================] - 94s 42ms/step - loss: 0.0440 - binary_accuracy: 0.9871 - f1_score: 0.8744 - hamming_loss: 0.0129 - recall: 0.9808 - precision: 0.9258 - auc: 0.9308 - val_loss: 0.0897 - val_binary_accuracy: 0.9777 - val_f1_score: 0.8335 - val_hamming_loss: 0.0223 - val_recall: 0.9554 - val_precision: 0.9007 - val_auc: 0.9236\n",
            "Epoch 7/50\n",
            "2219/2219 [==============================] - 94s 42ms/step - loss: 0.0398 - binary_accuracy: 0.9888 - f1_score: 0.8789 - hamming_loss: 0.0112 - recall: 0.9833 - precision: 0.9348 - auc: 0.9316 - val_loss: 0.0900 - val_binary_accuracy: 0.9774 - val_f1_score: 0.8388 - val_hamming_loss: 0.0226 - val_recall: 0.9584 - val_precision: 0.8969 - val_auc: 0.9234\n",
            "Epoch 8/50\n",
            "2219/2219 [==============================] - 94s 42ms/step - loss: 0.0361 - binary_accuracy: 0.9902 - f1_score: 0.8899 - hamming_loss: 0.0098 - recall: 0.9855 - precision: 0.9429 - auc: 0.9320 - val_loss: 0.0882 - val_binary_accuracy: 0.9793 - val_f1_score: 0.8416 - val_hamming_loss: 0.0207 - val_recall: 0.9587 - val_precision: 0.9075 - val_auc: 0.9238\n",
            "Epoch 9/50\n",
            "2219/2219 [==============================] - 94s 42ms/step - loss: 0.0333 - binary_accuracy: 0.9912 - f1_score: 0.8909 - hamming_loss: 0.0088 - recall: 0.9870 - precision: 0.9487 - auc: 0.9320 - val_loss: 0.0873 - val_binary_accuracy: 0.9798 - val_f1_score: 0.8510 - val_hamming_loss: 0.0202 - val_recall: 0.9593 - val_precision: 0.9101 - val_auc: 0.9194\n",
            "Epoch 10/50\n",
            "2219/2219 [==============================] - 94s 42ms/step - loss: 0.0329 - binary_accuracy: 0.9914 - f1_score: 0.8901 - hamming_loss: 0.0086 - recall: 0.9873 - precision: 0.9498 - auc: 0.9316 - val_loss: 0.0894 - val_binary_accuracy: 0.9804 - val_f1_score: 0.8491 - val_hamming_loss: 0.0196 - val_recall: 0.9575 - val_precision: 0.9150 - val_auc: 0.9234\n",
            "Epoch 11/50\n",
            "2219/2219 [==============================] - 94s 42ms/step - loss: 0.0301 - binary_accuracy: 0.9924 - f1_score: 0.8966 - hamming_loss: 0.0076 - recall: 0.9887 - precision: 0.9554 - auc: 0.9318 - val_loss: 0.1008 - val_binary_accuracy: 0.9795 - val_f1_score: 0.8555 - val_hamming_loss: 0.0205 - val_recall: 0.9544 - val_precision: 0.9118 - val_auc: 0.9234\n",
            "Epoch 12/50\n",
            "2219/2219 [==============================] - 94s 42ms/step - loss: 0.0294 - binary_accuracy: 0.9926 - f1_score: 0.9004 - hamming_loss: 0.0074 - recall: 0.9889 - precision: 0.9564 - auc: 0.9323 - val_loss: 0.0938 - val_binary_accuracy: 0.9813 - val_f1_score: 0.8578 - val_hamming_loss: 0.0187 - val_recall: 0.9577 - val_precision: 0.9202 - val_auc: 0.9175\n",
            "Epoch 13/50\n",
            "2219/2219 [==============================] - 94s 42ms/step - loss: 0.0288 - binary_accuracy: 0.9928 - f1_score: 0.8949 - hamming_loss: 0.0072 - recall: 0.9893 - precision: 0.9578 - auc: 0.9314 - val_loss: 0.0961 - val_binary_accuracy: 0.9811 - val_f1_score: 0.8512 - val_hamming_loss: 0.0189 - val_recall: 0.9559 - val_precision: 0.9202 - val_auc: 0.9220\n",
            "Epoch 14/50\n",
            "2219/2219 [==============================] - 94s 42ms/step - loss: 0.0280 - binary_accuracy: 0.9931 - f1_score: 0.8980 - hamming_loss: 0.0069 - recall: 0.9899 - precision: 0.9592 - auc: 0.9323 - val_loss: 0.0904 - val_binary_accuracy: 0.9819 - val_f1_score: 0.8606 - val_hamming_loss: 0.0181 - val_recall: 0.9553 - val_precision: 0.9256 - val_auc: 0.9215\n",
            "Epoch 15/50\n",
            "2219/2219 [==============================] - 94s 42ms/step - loss: 0.0263 - binary_accuracy: 0.9937 - f1_score: 0.9018 - hamming_loss: 0.0063 - recall: 0.9906 - precision: 0.9625 - auc: 0.9320 - val_loss: 0.0961 - val_binary_accuracy: 0.9819 - val_f1_score: 0.8358 - val_hamming_loss: 0.0181 - val_recall: 0.9544 - val_precision: 0.9264 - val_auc: 0.9234\n",
            "Epoch 16/50\n",
            "2219/2219 [==============================] - 94s 42ms/step - loss: 0.0266 - binary_accuracy: 0.9935 - f1_score: 0.8979 - hamming_loss: 0.0065 - recall: 0.9904 - precision: 0.9617 - auc: 0.9324 - val_loss: 0.0955 - val_binary_accuracy: 0.9821 - val_f1_score: 0.8621 - val_hamming_loss: 0.0179 - val_recall: 0.9573 - val_precision: 0.9254 - val_auc: 0.9209\n",
            "Epoch 17/50\n",
            "2219/2219 [==============================] - 94s 42ms/step - loss: 0.0256 - binary_accuracy: 0.9939 - f1_score: 0.9000 - hamming_loss: 0.0061 - recall: 0.9909 - precision: 0.9636 - auc: 0.9320 - val_loss: 0.0955 - val_binary_accuracy: 0.9816 - val_f1_score: 0.8608 - val_hamming_loss: 0.0184 - val_recall: 0.9592 - val_precision: 0.9204 - val_auc: 0.9133\n",
            "Epoch 18/50\n",
            "2219/2219 [==============================] - 95s 43ms/step - loss: 0.0253 - binary_accuracy: 0.9940 - f1_score: 0.9056 - hamming_loss: 0.0060 - recall: 0.9911 - precision: 0.9642 - auc: 0.9320 - val_loss: 0.0931 - val_binary_accuracy: 0.9805 - val_f1_score: 0.8529 - val_hamming_loss: 0.0195 - val_recall: 0.9600 - val_precision: 0.9132 - val_auc: 0.9176\n",
            "Epoch 19/50\n",
            "2219/2219 [==============================] - 95s 43ms/step - loss: 0.0242 - binary_accuracy: 0.9943 - f1_score: 0.9011 - hamming_loss: 0.0057 - recall: 0.9916 - precision: 0.9659 - auc: 0.9325 - val_loss: 0.1021 - val_binary_accuracy: 0.9815 - val_f1_score: 0.8597 - val_hamming_loss: 0.0185 - val_recall: 0.9552 - val_precision: 0.9231 - val_auc: 0.9179\n",
            "Epoch 20/50\n",
            "2219/2219 [==============================] - 94s 42ms/step - loss: 0.0239 - binary_accuracy: 0.9944 - f1_score: 0.9065 - hamming_loss: 0.0056 - recall: 0.9917 - precision: 0.9665 - auc: 0.9320 - val_loss: 0.0962 - val_binary_accuracy: 0.9827 - val_f1_score: 0.8579 - val_hamming_loss: 0.0173 - val_recall: 0.9566 - val_precision: 0.9291 - val_auc: 0.9192\n",
            "Epoch 21/50\n",
            "2219/2219 [==============================] - 94s 42ms/step - loss: 0.0235 - binary_accuracy: 0.9945 - f1_score: 0.9056 - hamming_loss: 0.0055 - recall: 0.9920 - precision: 0.9669 - auc: 0.9326 - val_loss: 0.1024 - val_binary_accuracy: 0.9824 - val_f1_score: 0.8537 - val_hamming_loss: 0.0176 - val_recall: 0.9553 - val_precision: 0.9284 - val_auc: 0.9111\n",
            "Epoch 22/50\n",
            "2219/2219 [==============================] - 94s 42ms/step - loss: 0.0239 - binary_accuracy: 0.9943 - f1_score: 0.9075 - hamming_loss: 0.0057 - recall: 0.9915 - precision: 0.9664 - auc: 0.9326 - val_loss: 0.0985 - val_binary_accuracy: 0.9829 - val_f1_score: 0.8594 - val_hamming_loss: 0.0171 - val_recall: 0.9578 - val_precision: 0.9296 - val_auc: 0.9158\n",
            "Epoch 23/50\n",
            "2219/2219 [==============================] - 94s 42ms/step - loss: 0.0232 - binary_accuracy: 0.9946 - f1_score: 0.9017 - hamming_loss: 0.0054 - recall: 0.9919 - precision: 0.9677 - auc: 0.9315 - val_loss: 0.1016 - val_binary_accuracy: 0.9814 - val_f1_score: 0.8589 - val_hamming_loss: 0.0186 - val_recall: 0.9548 - val_precision: 0.9232 - val_auc: 0.9206\n",
            "Epoch 24/50\n",
            "2219/2219 [==============================] - 94s 42ms/step - loss: 0.0224 - binary_accuracy: 0.9948 - f1_score: 0.9068 - hamming_loss: 0.0052 - recall: 0.9923 - precision: 0.9692 - auc: 0.9326 - val_loss: 0.1031 - val_binary_accuracy: 0.9818 - val_f1_score: 0.8540 - val_hamming_loss: 0.0182 - val_recall: 0.9546 - val_precision: 0.9255 - val_auc: 0.9191\n",
            "Epoch 25/50\n",
            "2219/2219 [==============================] - 94s 42ms/step - loss: 0.0227 - binary_accuracy: 0.9947 - f1_score: 0.9080 - hamming_loss: 0.0053 - recall: 0.9922 - precision: 0.9682 - auc: 0.9322 - val_loss: 0.1041 - val_binary_accuracy: 0.9824 - val_f1_score: 0.8607 - val_hamming_loss: 0.0176 - val_recall: 0.9552 - val_precision: 0.9289 - val_auc: 0.9175\n",
            "Epoch 26/50\n",
            "2219/2219 [==============================] - 94s 42ms/step - loss: 0.0224 - binary_accuracy: 0.9948 - f1_score: 0.9058 - hamming_loss: 0.0052 - recall: 0.9923 - precision: 0.9687 - auc: 0.9326 - val_loss: 0.0975 - val_binary_accuracy: 0.9822 - val_f1_score: 0.8539 - val_hamming_loss: 0.0178 - val_recall: 0.9584 - val_precision: 0.9250 - val_auc: 0.9176\n",
            "Epoch 27/50\n",
            "2219/2219 [==============================] - 94s 42ms/step - loss: 0.0219 - binary_accuracy: 0.9949 - f1_score: 0.9096 - hamming_loss: 0.0050 - recall: 0.9925 - precision: 0.9699 - auc: 0.9321 - val_loss: 0.1038 - val_binary_accuracy: 0.9825 - val_f1_score: 0.8579 - val_hamming_loss: 0.0175 - val_recall: 0.9550 - val_precision: 0.9295 - val_auc: 0.9131\n",
            "Epoch 28/50\n",
            "2219/2219 [==============================] - 95s 43ms/step - loss: 0.0227 - binary_accuracy: 0.9947 - f1_score: 0.9015 - hamming_loss: 0.0053 - recall: 0.9923 - precision: 0.9683 - auc: 0.9321 - val_loss: 0.0960 - val_binary_accuracy: 0.9832 - val_f1_score: 0.8678 - val_hamming_loss: 0.0168 - val_recall: 0.9604 - val_precision: 0.9291 - val_auc: 0.9222\n",
            "Epoch 29/50\n",
            "2219/2219 [==============================] - 94s 42ms/step - loss: 0.0206 - binary_accuracy: 0.9952 - f1_score: 0.9100 - hamming_loss: 0.0048 - recall: 0.9930 - precision: 0.9715 - auc: 0.9322 - val_loss: 0.1023 - val_binary_accuracy: 0.9825 - val_f1_score: 0.8497 - val_hamming_loss: 0.0175 - val_recall: 0.9587 - val_precision: 0.9262 - val_auc: 0.9178\n",
            "Epoch 30/50\n",
            "2219/2219 [==============================] - 93s 42ms/step - loss: 0.0217 - binary_accuracy: 0.9949 - f1_score: 0.9087 - hamming_loss: 0.0051 - recall: 0.9924 - precision: 0.9697 - auc: 0.9322 - val_loss: 0.1011 - val_binary_accuracy: 0.9821 - val_f1_score: 0.8628 - val_hamming_loss: 0.0179 - val_recall: 0.9582 - val_precision: 0.9243 - val_auc: 0.9166\n",
            "Epoch 31/50\n",
            "2219/2219 [==============================] - 93s 42ms/step - loss: 0.0208 - binary_accuracy: 0.9953 - f1_score: 0.9066 - hamming_loss: 0.0047 - recall: 0.9931 - precision: 0.9716 - auc: 0.9317 - val_loss: 0.1012 - val_binary_accuracy: 0.9825 - val_f1_score: 0.8646 - val_hamming_loss: 0.0175 - val_recall: 0.9594 - val_precision: 0.9261 - val_auc: 0.9180\n",
            "Epoch 32/50\n",
            "2219/2219 [==============================] - 94s 42ms/step - loss: 0.0210 - binary_accuracy: 0.9951 - f1_score: 0.9118 - hamming_loss: 0.0049 - recall: 0.9930 - precision: 0.9705 - auc: 0.9327 - val_loss: 0.1038 - val_binary_accuracy: 0.9833 - val_f1_score: 0.8658 - val_hamming_loss: 0.0167 - val_recall: 0.9559 - val_precision: 0.9337 - val_auc: 0.9156\n",
            "Epoch 33/50\n",
            "2219/2219 [==============================] - 97s 44ms/step - loss: 0.0206 - binary_accuracy: 0.9952 - f1_score: 0.9081 - hamming_loss: 0.0048 - recall: 0.9931 - precision: 0.9711 - auc: 0.9328 - val_loss: 0.1050 - val_binary_accuracy: 0.9834 - val_f1_score: 0.8708 - val_hamming_loss: 0.0166 - val_recall: 0.9558 - val_precision: 0.9342 - val_auc: 0.9105\n",
            "Epoch 34/50\n",
            "2219/2219 [==============================] - 94s 42ms/step - loss: 0.0216 - binary_accuracy: 0.9950 - f1_score: 0.9013 - hamming_loss: 0.0050 - recall: 0.9926 - precision: 0.9698 - auc: 0.9311 - val_loss: 0.1007 - val_binary_accuracy: 0.9833 - val_f1_score: 0.8607 - val_hamming_loss: 0.0167 - val_recall: 0.9579 - val_precision: 0.9319 - val_auc: 0.9117\n",
            "Epoch 35/50\n",
            "2219/2219 [==============================] - 94s 43ms/step - loss: 0.0196 - binary_accuracy: 0.9955 - f1_score: 0.9111 - hamming_loss: 0.0045 - recall: 0.9934 - precision: 0.9729 - auc: 0.9317 - val_loss: 0.1067 - val_binary_accuracy: 0.9814 - val_f1_score: 0.8538 - val_hamming_loss: 0.0186 - val_recall: 0.9569 - val_precision: 0.9212 - val_auc: 0.9172\n",
            "Epoch 36/50\n",
            "2219/2219 [==============================] - 94s 43ms/step - loss: 0.0209 - binary_accuracy: 0.9951 - f1_score: 0.9054 - hamming_loss: 0.0049 - recall: 0.9929 - precision: 0.9707 - auc: 0.9322 - val_loss: 0.1059 - val_binary_accuracy: 0.9827 - val_f1_score: 0.8689 - val_hamming_loss: 0.0173 - val_recall: 0.9577 - val_precision: 0.9282 - val_auc: 0.9162\n",
            "Epoch 37/50\n",
            "2219/2219 [==============================] - 94s 42ms/step - loss: 0.0199 - binary_accuracy: 0.9954 - f1_score: 0.9100 - hamming_loss: 0.0046 - recall: 0.9935 - precision: 0.9725 - auc: 0.9328 - val_loss: 0.1002 - val_binary_accuracy: 0.9833 - val_f1_score: 0.8472 - val_hamming_loss: 0.0167 - val_recall: 0.9589 - val_precision: 0.9312 - val_auc: 0.9202\n",
            "Epoch 38/50\n",
            "2219/2219 [==============================] - 94s 42ms/step - loss: 0.0200 - binary_accuracy: 0.9954 - f1_score: 0.9116 - hamming_loss: 0.0046 - recall: 0.9934 - precision: 0.9721 - auc: 0.9322 - val_loss: 0.1057 - val_binary_accuracy: 0.9832 - val_f1_score: 0.8631 - val_hamming_loss: 0.0168 - val_recall: 0.9561 - val_precision: 0.9329 - val_auc: 0.9157\n",
            "Epoch 39/50\n",
            "2219/2219 [==============================] - 94s 43ms/step - loss: 0.0205 - binary_accuracy: 0.9952 - f1_score: 0.9122 - hamming_loss: 0.0048 - recall: 0.9931 - precision: 0.9713 - auc: 0.9322 - val_loss: 0.1107 - val_binary_accuracy: 0.9829 - val_f1_score: 0.8671 - val_hamming_loss: 0.0171 - val_recall: 0.9548 - val_precision: 0.9322 - val_auc: 0.9133\n",
            "Epoch 40/50\n",
            "2219/2219 [==============================] - 96s 43ms/step - loss: 0.0219 - binary_accuracy: 0.9949 - f1_score: 0.9036 - hamming_loss: 0.0051 - recall: 0.9925 - precision: 0.9693 - auc: 0.9321 - val_loss: 0.1017 - val_binary_accuracy: 0.9835 - val_f1_score: 0.8760 - val_hamming_loss: 0.0165 - val_recall: 0.9602 - val_precision: 0.9313 - val_auc: 0.9155\n",
            "Epoch 41/50\n",
            "2219/2219 [==============================] - 96s 43ms/step - loss: 0.0191 - binary_accuracy: 0.9957 - f1_score: 0.9127 - hamming_loss: 0.0043 - recall: 0.9938 - precision: 0.9739 - auc: 0.9323 - val_loss: 0.1014 - val_binary_accuracy: 0.9841 - val_f1_score: 0.8696 - val_hamming_loss: 0.0159 - val_recall: 0.9594 - val_precision: 0.9358 - val_auc: 0.9176\n",
            "Epoch 42/50\n",
            "2219/2219 [==============================] - 95s 43ms/step - loss: 0.0197 - binary_accuracy: 0.9955 - f1_score: 0.9068 - hamming_loss: 0.0045 - recall: 0.9934 - precision: 0.9728 - auc: 0.9322 - val_loss: 0.1056 - val_binary_accuracy: 0.9839 - val_f1_score: 0.8764 - val_hamming_loss: 0.0161 - val_recall: 0.9580 - val_precision: 0.9357 - val_auc: 0.9164\n",
            "Epoch 43/50\n",
            "2219/2219 [==============================] - 94s 42ms/step - loss: 0.0194 - binary_accuracy: 0.9955 - f1_score: 0.9108 - hamming_loss: 0.0045 - recall: 0.9935 - precision: 0.9731 - auc: 0.9327 - val_loss: 0.1020 - val_binary_accuracy: 0.9832 - val_f1_score: 0.8715 - val_hamming_loss: 0.0168 - val_recall: 0.9581 - val_precision: 0.9313 - val_auc: 0.9153\n",
            "Epoch 44/50\n",
            "2219/2219 [==============================] - 95s 43ms/step - loss: 0.0190 - binary_accuracy: 0.9956 - f1_score: 0.9099 - hamming_loss: 0.0044 - recall: 0.9938 - precision: 0.9736 - auc: 0.9317 - val_loss: 0.1068 - val_binary_accuracy: 0.9823 - val_f1_score: 0.8526 - val_hamming_loss: 0.0177 - val_recall: 0.9554 - val_precision: 0.9281 - val_auc: 0.9146\n",
            "Epoch 45/50\n",
            "2219/2219 [==============================] - 95s 43ms/step - loss: 0.0187 - binary_accuracy: 0.9957 - f1_score: 0.9138 - hamming_loss: 0.0043 - recall: 0.9939 - precision: 0.9740 - auc: 0.9327 - val_loss: 0.1089 - val_binary_accuracy: 0.9834 - val_f1_score: 0.8723 - val_hamming_loss: 0.0166 - val_recall: 0.9581 - val_precision: 0.9321 - val_auc: 0.9098\n",
            "Epoch 46/50\n",
            "2219/2219 [==============================] - 94s 43ms/step - loss: 0.0204 - binary_accuracy: 0.9952 - f1_score: 0.9112 - hamming_loss: 0.0048 - recall: 0.9929 - precision: 0.9713 - auc: 0.9325 - val_loss: 0.1051 - val_binary_accuracy: 0.9831 - val_f1_score: 0.8639 - val_hamming_loss: 0.0169 - val_recall: 0.9562 - val_precision: 0.9321 - val_auc: 0.9143\n",
            "Epoch 47/50\n",
            "2219/2219 [==============================] - 95s 43ms/step - loss: 0.0192 - binary_accuracy: 0.9956 - f1_score: 0.9096 - hamming_loss: 0.0044 - recall: 0.9937 - precision: 0.9733 - auc: 0.9318 - val_loss: 0.1023 - val_binary_accuracy: 0.9835 - val_f1_score: 0.8693 - val_hamming_loss: 0.0165 - val_recall: 0.9589 - val_precision: 0.9323 - val_auc: 0.9156\n",
            "Epoch 48/50\n",
            "2219/2219 [==============================] - 95s 43ms/step - loss: 0.0188 - binary_accuracy: 0.9956 - f1_score: 0.9115 - hamming_loss: 0.0043 - recall: 0.9939 - precision: 0.9737 - auc: 0.9327 - val_loss: 0.1058 - val_binary_accuracy: 0.9828 - val_f1_score: 0.8693 - val_hamming_loss: 0.0172 - val_recall: 0.9580 - val_precision: 0.9289 - val_auc: 0.9161\n",
            "Epoch 49/50\n",
            "2219/2219 [==============================] - 95s 43ms/step - loss: 0.0183 - binary_accuracy: 0.9957 - f1_score: 0.9131 - hamming_loss: 0.0043 - recall: 0.9940 - precision: 0.9741 - auc: 0.9318 - val_loss: 0.1116 - val_binary_accuracy: 0.9835 - val_f1_score: 0.8703 - val_hamming_loss: 0.0165 - val_recall: 0.9555 - val_precision: 0.9350 - val_auc: 0.9137\n",
            "Epoch 50/50\n",
            "2219/2219 [==============================] - 95s 43ms/step - loss: 0.0204 - binary_accuracy: 0.9953 - f1_score: 0.9073 - hamming_loss: 0.0047 - recall: 0.9931 - precision: 0.9716 - auc: 0.9310 - val_loss: 0.1009 - val_binary_accuracy: 0.9831 - val_f1_score: 0.8749 - val_hamming_loss: 0.0169 - val_recall: 0.9611 - val_precision: 0.9282 - val_auc: 0.9157\n"
          ]
        }
      ]
    }
  ]
}