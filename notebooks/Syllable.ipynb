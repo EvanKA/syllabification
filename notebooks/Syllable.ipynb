{
  "nbformat": 4,
  "nbformat_minor": 0,
  "metadata": {
    "colab": {
      "name": "Syllable",
      "provenance": [],
      "collapsed_sections": [],
      "authorship_tag": "ABX9TyM+ZDUx5KKPl1ipDfiBhdgm"
    },
    "kernelspec": {
      "name": "python3",
      "display_name": "Python 3"
    },
    "language_info": {
      "name": "python"
    },
    "accelerator": "GPU"
  },
  "cells": [
    {
      "cell_type": "markdown",
      "metadata": {
        "id": "CaKQj5AVhKR_"
      },
      "source": [
        "Syllable - Joseph Jojoe"
      ]
    },
    {
      "cell_type": "code",
      "metadata": {
        "colab": {
          "base_uri": "https://localhost:8080/"
        },
        "id": "pUgwfh0oKjss",
        "outputId": "e128ba9b-18ce-4a5f-af7e-7642c1b74007"
      },
      "source": [
        "!pip install tensorflow_addons"
      ],
      "execution_count": 1,
      "outputs": [
        {
          "output_type": "stream",
          "name": "stdout",
          "text": [
            "Collecting tensorflow_addons\n",
            "  Downloading tensorflow_addons-0.14.0-cp37-cp37m-manylinux_2_12_x86_64.manylinux2010_x86_64.whl (1.1 MB)\n",
            "\u001b[?25l\r\u001b[K     |▎                               | 10 kB 35.3 MB/s eta 0:00:01\r\u001b[K     |▋                               | 20 kB 42.1 MB/s eta 0:00:01\r\u001b[K     |▉                               | 30 kB 45.0 MB/s eta 0:00:01\r\u001b[K     |█▏                              | 40 kB 26.3 MB/s eta 0:00:01\r\u001b[K     |█▌                              | 51 kB 16.5 MB/s eta 0:00:01\r\u001b[K     |█▊                              | 61 kB 18.0 MB/s eta 0:00:01\r\u001b[K     |██                              | 71 kB 16.1 MB/s eta 0:00:01\r\u001b[K     |██▍                             | 81 kB 17.5 MB/s eta 0:00:01\r\u001b[K     |██▋                             | 92 kB 13.8 MB/s eta 0:00:01\r\u001b[K     |███                             | 102 kB 14.8 MB/s eta 0:00:01\r\u001b[K     |███▎                            | 112 kB 14.8 MB/s eta 0:00:01\r\u001b[K     |███▌                            | 122 kB 14.8 MB/s eta 0:00:01\r\u001b[K     |███▉                            | 133 kB 14.8 MB/s eta 0:00:01\r\u001b[K     |████▏                           | 143 kB 14.8 MB/s eta 0:00:01\r\u001b[K     |████▍                           | 153 kB 14.8 MB/s eta 0:00:01\r\u001b[K     |████▊                           | 163 kB 14.8 MB/s eta 0:00:01\r\u001b[K     |█████                           | 174 kB 14.8 MB/s eta 0:00:01\r\u001b[K     |█████▎                          | 184 kB 14.8 MB/s eta 0:00:01\r\u001b[K     |█████▋                          | 194 kB 14.8 MB/s eta 0:00:01\r\u001b[K     |██████                          | 204 kB 14.8 MB/s eta 0:00:01\r\u001b[K     |██████▏                         | 215 kB 14.8 MB/s eta 0:00:01\r\u001b[K     |██████▌                         | 225 kB 14.8 MB/s eta 0:00:01\r\u001b[K     |██████▉                         | 235 kB 14.8 MB/s eta 0:00:01\r\u001b[K     |███████                         | 245 kB 14.8 MB/s eta 0:00:01\r\u001b[K     |███████▍                        | 256 kB 14.8 MB/s eta 0:00:01\r\u001b[K     |███████▊                        | 266 kB 14.8 MB/s eta 0:00:01\r\u001b[K     |████████                        | 276 kB 14.8 MB/s eta 0:00:01\r\u001b[K     |████████▎                       | 286 kB 14.8 MB/s eta 0:00:01\r\u001b[K     |████████▋                       | 296 kB 14.8 MB/s eta 0:00:01\r\u001b[K     |████████▉                       | 307 kB 14.8 MB/s eta 0:00:01\r\u001b[K     |█████████▏                      | 317 kB 14.8 MB/s eta 0:00:01\r\u001b[K     |█████████▌                      | 327 kB 14.8 MB/s eta 0:00:01\r\u001b[K     |█████████▊                      | 337 kB 14.8 MB/s eta 0:00:01\r\u001b[K     |██████████                      | 348 kB 14.8 MB/s eta 0:00:01\r\u001b[K     |██████████▍                     | 358 kB 14.8 MB/s eta 0:00:01\r\u001b[K     |██████████▋                     | 368 kB 14.8 MB/s eta 0:00:01\r\u001b[K     |███████████                     | 378 kB 14.8 MB/s eta 0:00:01\r\u001b[K     |███████████▎                    | 389 kB 14.8 MB/s eta 0:00:01\r\u001b[K     |███████████▌                    | 399 kB 14.8 MB/s eta 0:00:01\r\u001b[K     |███████████▉                    | 409 kB 14.8 MB/s eta 0:00:01\r\u001b[K     |████████████▏                   | 419 kB 14.8 MB/s eta 0:00:01\r\u001b[K     |████████████▍                   | 430 kB 14.8 MB/s eta 0:00:01\r\u001b[K     |████████████▊                   | 440 kB 14.8 MB/s eta 0:00:01\r\u001b[K     |█████████████                   | 450 kB 14.8 MB/s eta 0:00:01\r\u001b[K     |█████████████▎                  | 460 kB 14.8 MB/s eta 0:00:01\r\u001b[K     |█████████████▋                  | 471 kB 14.8 MB/s eta 0:00:01\r\u001b[K     |██████████████                  | 481 kB 14.8 MB/s eta 0:00:01\r\u001b[K     |██████████████▏                 | 491 kB 14.8 MB/s eta 0:00:01\r\u001b[K     |██████████████▌                 | 501 kB 14.8 MB/s eta 0:00:01\r\u001b[K     |██████████████▉                 | 512 kB 14.8 MB/s eta 0:00:01\r\u001b[K     |███████████████                 | 522 kB 14.8 MB/s eta 0:00:01\r\u001b[K     |███████████████▍                | 532 kB 14.8 MB/s eta 0:00:01\r\u001b[K     |███████████████▊                | 542 kB 14.8 MB/s eta 0:00:01\r\u001b[K     |████████████████                | 552 kB 14.8 MB/s eta 0:00:01\r\u001b[K     |████████████████▎               | 563 kB 14.8 MB/s eta 0:00:01\r\u001b[K     |████████████████▋               | 573 kB 14.8 MB/s eta 0:00:01\r\u001b[K     |████████████████▉               | 583 kB 14.8 MB/s eta 0:00:01\r\u001b[K     |█████████████████▏              | 593 kB 14.8 MB/s eta 0:00:01\r\u001b[K     |█████████████████▌              | 604 kB 14.8 MB/s eta 0:00:01\r\u001b[K     |█████████████████▊              | 614 kB 14.8 MB/s eta 0:00:01\r\u001b[K     |██████████████████              | 624 kB 14.8 MB/s eta 0:00:01\r\u001b[K     |██████████████████▍             | 634 kB 14.8 MB/s eta 0:00:01\r\u001b[K     |██████████████████▋             | 645 kB 14.8 MB/s eta 0:00:01\r\u001b[K     |███████████████████             | 655 kB 14.8 MB/s eta 0:00:01\r\u001b[K     |███████████████████▎            | 665 kB 14.8 MB/s eta 0:00:01\r\u001b[K     |███████████████████▌            | 675 kB 14.8 MB/s eta 0:00:01\r\u001b[K     |███████████████████▉            | 686 kB 14.8 MB/s eta 0:00:01\r\u001b[K     |████████████████████▏           | 696 kB 14.8 MB/s eta 0:00:01\r\u001b[K     |████████████████████▍           | 706 kB 14.8 MB/s eta 0:00:01\r\u001b[K     |████████████████████▊           | 716 kB 14.8 MB/s eta 0:00:01\r\u001b[K     |█████████████████████           | 727 kB 14.8 MB/s eta 0:00:01\r\u001b[K     |█████████████████████▎          | 737 kB 14.8 MB/s eta 0:00:01\r\u001b[K     |█████████████████████▋          | 747 kB 14.8 MB/s eta 0:00:01\r\u001b[K     |██████████████████████          | 757 kB 14.8 MB/s eta 0:00:01\r\u001b[K     |██████████████████████▏         | 768 kB 14.8 MB/s eta 0:00:01\r\u001b[K     |██████████████████████▌         | 778 kB 14.8 MB/s eta 0:00:01\r\u001b[K     |██████████████████████▉         | 788 kB 14.8 MB/s eta 0:00:01\r\u001b[K     |███████████████████████         | 798 kB 14.8 MB/s eta 0:00:01\r\u001b[K     |███████████████████████▍        | 808 kB 14.8 MB/s eta 0:00:01\r\u001b[K     |███████████████████████▊        | 819 kB 14.8 MB/s eta 0:00:01\r\u001b[K     |████████████████████████        | 829 kB 14.8 MB/s eta 0:00:01\r\u001b[K     |████████████████████████▎       | 839 kB 14.8 MB/s eta 0:00:01\r\u001b[K     |████████████████████████▋       | 849 kB 14.8 MB/s eta 0:00:01\r\u001b[K     |████████████████████████▉       | 860 kB 14.8 MB/s eta 0:00:01\r\u001b[K     |█████████████████████████▏      | 870 kB 14.8 MB/s eta 0:00:01\r\u001b[K     |█████████████████████████▍      | 880 kB 14.8 MB/s eta 0:00:01\r\u001b[K     |█████████████████████████▊      | 890 kB 14.8 MB/s eta 0:00:01\r\u001b[K     |██████████████████████████      | 901 kB 14.8 MB/s eta 0:00:01\r\u001b[K     |██████████████████████████▎     | 911 kB 14.8 MB/s eta 0:00:01\r\u001b[K     |██████████████████████████▋     | 921 kB 14.8 MB/s eta 0:00:01\r\u001b[K     |███████████████████████████     | 931 kB 14.8 MB/s eta 0:00:01\r\u001b[K     |███████████████████████████▏    | 942 kB 14.8 MB/s eta 0:00:01\r\u001b[K     |███████████████████████████▌    | 952 kB 14.8 MB/s eta 0:00:01\r\u001b[K     |███████████████████████████▉    | 962 kB 14.8 MB/s eta 0:00:01\r\u001b[K     |████████████████████████████    | 972 kB 14.8 MB/s eta 0:00:01\r\u001b[K     |████████████████████████████▍   | 983 kB 14.8 MB/s eta 0:00:01\r\u001b[K     |████████████████████████████▊   | 993 kB 14.8 MB/s eta 0:00:01\r\u001b[K     |█████████████████████████████   | 1.0 MB 14.8 MB/s eta 0:00:01\r\u001b[K     |█████████████████████████████▎  | 1.0 MB 14.8 MB/s eta 0:00:01\r\u001b[K     |█████████████████████████████▋  | 1.0 MB 14.8 MB/s eta 0:00:01\r\u001b[K     |█████████████████████████████▉  | 1.0 MB 14.8 MB/s eta 0:00:01\r\u001b[K     |██████████████████████████████▏ | 1.0 MB 14.8 MB/s eta 0:00:01\r\u001b[K     |██████████████████████████████▌ | 1.1 MB 14.8 MB/s eta 0:00:01\r\u001b[K     |██████████████████████████████▊ | 1.1 MB 14.8 MB/s eta 0:00:01\r\u001b[K     |███████████████████████████████ | 1.1 MB 14.8 MB/s eta 0:00:01\r\u001b[K     |███████████████████████████████▍| 1.1 MB 14.8 MB/s eta 0:00:01\r\u001b[K     |███████████████████████████████▋| 1.1 MB 14.8 MB/s eta 0:00:01\r\u001b[K     |████████████████████████████████| 1.1 MB 14.8 MB/s eta 0:00:01\r\u001b[K     |████████████████████████████████| 1.1 MB 14.8 MB/s \n",
            "\u001b[?25hRequirement already satisfied: typeguard>=2.7 in /usr/local/lib/python3.7/dist-packages (from tensorflow_addons) (2.7.1)\n",
            "Installing collected packages: tensorflow-addons\n",
            "Successfully installed tensorflow-addons-0.14.0\n"
          ]
        }
      ]
    },
    {
      "cell_type": "code",
      "metadata": {
        "id": "csu57YRLhUPe"
      },
      "source": [
        "# Imports dependencies\n",
        "from google.colab import files\n",
        "import tensorflow as tf\n",
        "from tensorflow import keras\n",
        "from tensorflow.keras import layers\n",
        "import tensorflow_addons as tfa\n",
        "from tensorflow.keras import regularizers\n",
        "from keras.models import Model\n",
        "import pathlib\n",
        "import os\n",
        "import matplotlib.pyplot as plt\n",
        "import pandas as pd\n",
        "import numpy as np\n",
        "import string\n",
        "import random\n",
        "from keras.preprocessing.text import Tokenizer"
      ],
      "execution_count": 2,
      "outputs": []
    },
    {
      "cell_type": "code",
      "metadata": {
        "colab": {
          "resources": {
            "http://localhost:8080/nbextensions/google.colab/files.js": {
              "data": "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",
              "ok": true,
              "headers": [
                [
                  "content-type",
                  "application/javascript"
                ]
              ],
              "status": 200,
              "status_text": ""
            }
          },
          "base_uri": "https://localhost:8080/",
          "height": 73
        },
        "id": "jpAxHCsohese",
        "outputId": "376204db-1388-447e-f1ad-63905fdce326"
      },
      "source": [
        "uploaded = files.upload()\n",
        "# Upload dataset"
      ],
      "execution_count": 3,
      "outputs": [
        {
          "output_type": "display_data",
          "data": {
            "text/html": [
              "\n",
              "     <input type=\"file\" id=\"files-d224c778-fbbc-4d31-ba7d-6911ebe000d3\" name=\"files[]\" multiple disabled\n",
              "        style=\"border:none\" />\n",
              "     <output id=\"result-d224c778-fbbc-4d31-ba7d-6911ebe000d3\">\n",
              "      Upload widget is only available when the cell has been executed in the\n",
              "      current browser session. Please rerun this cell to enable.\n",
              "      </output>\n",
              "      <script src=\"/nbextensions/google.colab/files.js\"></script> "
            ],
            "text/plain": [
              "<IPython.core.display.HTML object>"
            ]
          },
          "metadata": {}
        },
        {
          "output_type": "stream",
          "name": "stdout",
          "text": [
            "Saving preprocessed.txt to preprocessed.txt\n"
          ]
        }
      ]
    },
    {
      "cell_type": "code",
      "metadata": {
        "id": "vjbfSUbohytB"
      },
      "source": [
        "# Loads in syllable data\n",
        "dataframe = pd.read_csv(\"preprocessed.txt\",\n",
        "                        sep=\",\",\n",
        "                        encoding=\"ISO-8859-1\",\n",
        "                        names=[\"word\", \"label\"])\n",
        "# Necessary to specify str type for pandas columns\n",
        "dataframe = dataframe.astype(str)\n",
        "words = dataframe['word'].tolist()\n",
        "labels = dataframe['label'].tolist()\n",
        "# Converts each label to numpy array\n",
        "for i in range(0, len(labels)):\n",
        "    labels[i] = list(labels[i])\n",
        "    for j in range(0, len(labels[i])):\n",
        "        labels[i][j] = int(labels[i][j])\n",
        "for i in range(0, len(labels)):\n",
        "    labels[i] = np.array(labels[i])"
      ],
      "execution_count": 4,
      "outputs": []
    },
    {
      "cell_type": "code",
      "metadata": {
        "id": "6gDS7CtLiAIj"
      },
      "source": [
        "# Vectorises syllable strings by treating each character as a token\n",
        "tokenizer = Tokenizer(char_level=True)\n",
        "tokenizer.fit_on_texts(words)\n",
        "words = tokenizer.texts_to_sequences(words)\n",
        "for i in range(0, len(words)):\n",
        "    words[i] = np.array(words[i], dtype=float)\n",
        "\n",
        "padded_inputs = tf.keras.preprocessing.sequence.pad_sequences(\n",
        "    words, padding=\"post\", maxlen=15\n",
        ")\n",
        "padded_outputs = tf.keras.preprocessing.sequence.pad_sequences(\n",
        "    labels, padding=\"post\", maxlen=15\n",
        ")\n",
        "\n",
        "# Normalisation\n",
        "maximum_token = 64\n",
        "for element in range(0, len(words)):\n",
        "    words[element] = words[element] / maximum_token"
      ],
      "execution_count": 5,
      "outputs": []
    },
    {
      "cell_type": "code",
      "metadata": {
        "id": "jgZKQGe1iFpj"
      },
      "source": [
        "# shuffles data\n",
        "seed = random.random()\n",
        "random.seed(seed)\n",
        "random.shuffle(padded_inputs)\n",
        "random.seed(seed)\n",
        "random.shuffle(padded_outputs)\n",
        "\n",
        "# splits into training and validation sets (80-20 split)\n",
        "validation_inputs = padded_inputs[-35497:]\n",
        "validation_outputs = padded_outputs[-35497:]\n",
        "padded_inputs = padded_inputs[:-35497]\n",
        "padded_outputs = padded_outputs[:-35497]"
      ],
      "execution_count": 6,
      "outputs": []
    },
    {
      "cell_type": "code",
      "metadata": {
        "id": "YQezB-7cRHOC"
      },
      "source": [
        "# Custom loss function - mean of binary crossentropy and mean squared error\n",
        "def mean_weighted_bce_mse(y_true, y_prediction):\n",
        "    y_true = tf.cast(y_true, tf.float32)\n",
        "    y_prediction = tf.cast(y_prediction, tf.float32)\n",
        "\n",
        "    # Binary crossentropy with weighting\n",
        "    epsilon = 1e-6\n",
        "    positive_weight = 4.108897148948174\n",
        "    loss_positive = y_true * tf.math.log(y_prediction + epsilon)\n",
        "    loss_negative = (1 - y_true) * tf.math.log(1 - y_prediction + epsilon)\n",
        "    bce_loss = tf.math.reduce_mean(tf.math.negative(positive_weight * loss_positive + loss_negative))\n",
        "    \n",
        "    # Mean squared error\n",
        "    mse = tf.keras.losses.MeanSquaredError()\n",
        "    mse_loss = mse(y_true, y_prediction)\n",
        "\n",
        "    averaged_bce_mse = (bce_loss + mse_loss) / 2\n",
        "    return averaged_bce_mse"
      ],
      "execution_count": 7,
      "outputs": []
    },
    {
      "cell_type": "code",
      "metadata": {
        "id": "Df2UpqpKl16x"
      },
      "source": [
        "def inception_module(inputs):\n",
        "    inception_branch_1 = tf.keras.layers.Conv1D(128, kernel_size=1, strides=2, activation=\"tanh\", activity_regularizer=tf.keras.regularizers.l2(1e-5))(inputs)\n",
        "    inception_branch_1 = tf.keras.layers.ZeroPadding1D(padding=(0, 15 - inception_branch_1.shape[1]))(inception_branch_1)\n",
        "\n",
        "    inception_branch_2 = tf.keras.layers.Conv1D(128, kernel_size=1, activation=\"tanh\", activity_regularizer=tf.keras.regularizers.l2(1e-5))(inputs)\n",
        "    inception_branch_2 = tf.keras.layers.Conv1D(128, kernel_size=3, strides=2, activation=\"tanh\", activity_regularizer=tf.keras.regularizers.l2(1e-5))(inception_branch_2)\n",
        "    inception_branch_2 = tf.keras.layers.ZeroPadding1D(padding=(0, 15 - inception_branch_2.shape[1]))(inception_branch_2)\n",
        "\n",
        "    inception_branch_3 = tf.keras.layers.AveragePooling1D(pool_size=3, strides=2)(inputs)\n",
        "    inception_branch_3 = tf.keras.layers.Conv1D(128, kernel_size=3, activation=\"tanh\", activity_regularizer=tf.keras.regularizers.l2(1e-5))(inception_branch_3)\n",
        "    inception_branch_3 = tf.keras.layers.ZeroPadding1D(padding=(0, 15 - inception_branch_3.shape[1]))(inception_branch_3)\n",
        "\n",
        "    inception_branch_4 = tf.keras.layers.Conv1D(128, kernel_size=1, activation=\"tanh\", activity_regularizer=tf.keras.regularizers.l2(1e-5))(inputs)\n",
        "    inception_branch_4 = tf.keras.layers.Conv1D(128, kernel_size=3, activation=\"tanh\", activity_regularizer=tf.keras.regularizers.l2(1e-5))(inception_branch_4)\n",
        "    inception_branch_4 = tf.keras.layers.Conv1D(128, kernel_size=3, strides=2, activation=\"tanh\", activity_regularizer=tf.keras.regularizers.l2(1e-5))(inception_branch_4)\n",
        "    inception_branch_4 = tf.keras.layers.ZeroPadding1D(padding=(0, 15 - inception_branch_4.shape[1]))(inception_branch_4)\n",
        "\n",
        "    inception_output = tf.keras.layers.concatenate([inception_branch_1, inception_branch_2, inception_branch_3, inception_branch_4, inputs])\n",
        "    return inception_output"
      ],
      "execution_count": 8,
      "outputs": []
    },
    {
      "cell_type": "code",
      "metadata": {
        "id": "EOip602ziQok"
      },
      "source": [
        "inputs = tf.keras.Input(shape=(15,))\n",
        "embedded_inputs = tf.keras.layers.Embedding(64, 256, mask_zero=True)(inputs)\n",
        "embedded_inputs = tf.keras.layers.Dropout(0.25)(embedded_inputs)\n",
        "\n",
        "x = tf.keras.layers.Bidirectional(tf.keras.layers.GRU(256, return_sequences=True, dropout=0.1, activity_regularizer=tf.keras.regularizers.l2(1e-5)))(embedded_inputs)\n",
        "x = tf.keras.layers.concatenate([x, embedded_inputs])\n",
        "x = tf.keras.layers.Bidirectional(tf.keras.layers.GRU(256, return_sequences=True, dropout=0.1, activity_regularizer=tf.keras.regularizers.l2(1e-5)))(x)\n",
        "x = tf.keras.layers.concatenate([x, embedded_inputs])\n",
        "x = tf.keras.layers.Bidirectional(tf.keras.layers.GRU(256, return_sequences=True, activity_regularizer=tf.keras.regularizers.l2(1e-5)))(x)\n",
        "\n",
        "inception_output = inception_module(embedded_inputs)\n",
        "inception_output = tf.keras.layers.MaxPooling1D()(inception_output)\n",
        "inception_output =  tf.keras.layers.ZeroPadding1D(padding=(0, 15 - inception_output.shape[1]))(inception_output)\n",
        "inception_output = tf.keras.layers.Dropout(0.5)(inception_output)\n",
        "inception_output = inception_module(inception_output)\n",
        "inception_output = tf.keras.layers.MaxPooling1D()(inception_output)\n",
        "inception_output =  tf.keras.layers.ZeroPadding1D(padding=(0, 15 - inception_output.shape[1]))(inception_output)\n",
        "\n",
        "output = tf.keras.layers.concatenate([x, inception_output, embedded_inputs])\n",
        "output = tf.keras.layers.TimeDistributed(tf.keras.layers.Dense(256, activation=\"relu\"))(output)\n",
        "output = tf.keras.layers.TimeDistributed(tf.keras.layers.Dense(64, activation=\"relu\"))(output)\n",
        "output = tf.keras.layers.GlobalMaxPool1D()(output)\n",
        "output = tf.keras.layers.Dense(15, activation=\"sigmoid\")(output)\n",
        "\n",
        "metrics = [\"binary_accuracy\",\n",
        "           tfa.metrics.F1Score(num_classes=15, threshold=0.5),\n",
        "           tfa.metrics.HammingLoss(mode='multilabel', threshold=0.5),\n",
        "           tf.keras.metrics.Recall(),\n",
        "           tf.keras.metrics.Precision(),\n",
        "           tf.keras.metrics.AUC(multi_label=True, num_labels=15)]\n",
        "\n",
        "model = tf.keras.models.Model(inputs=inputs, outputs=output)\n",
        "model.compile(optimizer=\"adam\",\n",
        "              loss=mean_weighted_bce_mse,\n",
        "              metrics=metrics,\n",
        "              steps_per_execution=128)"
      ],
      "execution_count": 9,
      "outputs": []
    },
    {
      "cell_type": "code",
      "metadata": {
        "id": "rM_seEmJg7ux"
      },
      "source": [
        "model.summary()"
      ],
      "execution_count": null,
      "outputs": []
    },
    {
      "cell_type": "code",
      "metadata": {
        "colab": {
          "base_uri": "https://localhost:8080/"
        },
        "id": "5_CQt-B_ibtm",
        "outputId": "7b6bbe44-97dc-4717-d89c-938087a6c6dc"
      },
      "source": [
        "history = model.fit(padded_inputs,\n",
        "                    padded_outputs,\n",
        "                    validation_data=(validation_inputs, validation_outputs),\n",
        "                    epochs=50,\n",
        "                    batch_size=64)"
      ],
      "execution_count": 11,
      "outputs": [
        {
          "output_type": "stream",
          "name": "stdout",
          "text": [
            "Epoch 1/50\n",
            "2219/2219 [==============================] - 95s 43ms/step - loss: 0.0179 - binary_accuracy: 0.9959 - f1_score: 0.9129 - hamming_loss: 0.0041 - recall: 0.9942 - precision: 0.9752 - auc: 0.9323 - val_loss: 0.1049 - val_binary_accuracy: 0.9837 - val_f1_score: 0.8634 - val_hamming_loss: 0.0163 - val_recall: 0.9586 - val_precision: 0.9337 - val_auc: 0.9118\n",
            "Epoch 2/50\n",
            "2219/2219 [==============================] - 94s 43ms/step - loss: 0.0202 - binary_accuracy: 0.9952 - f1_score: 0.9089 - hamming_loss: 0.0048 - recall: 0.9931 - precision: 0.9710 - auc: 0.9322 - val_loss: 0.1068 - val_binary_accuracy: 0.9821 - val_f1_score: 0.8537 - val_hamming_loss: 0.0179 - val_recall: 0.9572 - val_precision: 0.9253 - val_auc: 0.9152\n",
            "Epoch 3/50\n",
            "2219/2219 [==============================] - 94s 42ms/step - loss: 0.0182 - binary_accuracy: 0.9958 - f1_score: 0.9087 - hamming_loss: 0.0042 - recall: 0.9942 - precision: 0.9745 - auc: 0.9318 - val_loss: 0.1090 - val_binary_accuracy: 0.9832 - val_f1_score: 0.8703 - val_hamming_loss: 0.0168 - val_recall: 0.9559 - val_precision: 0.9332 - val_auc: 0.9099\n",
            "Epoch 4/50\n",
            "2219/2219 [==============================] - 94s 42ms/step - loss: 0.0184 - binary_accuracy: 0.9958 - f1_score: 0.9161 - hamming_loss: 0.0042 - recall: 0.9940 - precision: 0.9744 - auc: 0.9327 - val_loss: 0.1071 - val_binary_accuracy: 0.9832 - val_f1_score: 0.8737 - val_hamming_loss: 0.0168 - val_recall: 0.9573 - val_precision: 0.9319 - val_auc: 0.9171\n",
            "Epoch 5/50\n",
            "2219/2219 [==============================] - 95s 43ms/step - loss: 0.0182 - binary_accuracy: 0.9958 - f1_score: 0.9142 - hamming_loss: 0.0042 - recall: 0.9942 - precision: 0.9747 - auc: 0.9328 - val_loss: 0.1097 - val_binary_accuracy: 0.9840 - val_f1_score: 0.8697 - val_hamming_loss: 0.0160 - val_recall: 0.9562 - val_precision: 0.9378 - val_auc: 0.9116\n",
            "Epoch 6/50\n",
            "2219/2219 [==============================] - 95s 43ms/step - loss: 0.0179 - binary_accuracy: 0.9959 - f1_score: 0.9143 - hamming_loss: 0.0041 - recall: 0.9942 - precision: 0.9750 - auc: 0.9318 - val_loss: 0.1048 - val_binary_accuracy: 0.9836 - val_f1_score: 0.8624 - val_hamming_loss: 0.0164 - val_recall: 0.9573 - val_precision: 0.9341 - val_auc: 0.9140\n",
            "Epoch 7/50\n",
            "2219/2219 [==============================] - 95s 43ms/step - loss: 0.0189 - binary_accuracy: 0.9956 - f1_score: 0.9093 - hamming_loss: 0.0044 - recall: 0.9937 - precision: 0.9735 - auc: 0.9323 - val_loss: 0.1036 - val_binary_accuracy: 0.9837 - val_f1_score: 0.8744 - val_hamming_loss: 0.0163 - val_recall: 0.9589 - val_precision: 0.9337 - val_auc: 0.9152\n",
            "Epoch 8/50\n",
            "2219/2219 [==============================] - 94s 43ms/step - loss: 0.0178 - binary_accuracy: 0.9959 - f1_score: 0.9135 - hamming_loss: 0.0041 - recall: 0.9941 - precision: 0.9751 - auc: 0.9322 - val_loss: 0.1072 - val_binary_accuracy: 0.9827 - val_f1_score: 0.8698 - val_hamming_loss: 0.0173 - val_recall: 0.9565 - val_precision: 0.9292 - val_auc: 0.9151\n",
            "Epoch 9/50\n",
            "2219/2219 [==============================] - 95s 43ms/step - loss: 0.0197 - binary_accuracy: 0.9953 - f1_score: 0.9067 - hamming_loss: 0.0047 - recall: 0.9932 - precision: 0.9719 - auc: 0.9307 - val_loss: 0.1090 - val_binary_accuracy: 0.9810 - val_f1_score: 0.8573 - val_hamming_loss: 0.0190 - val_recall: 0.9544 - val_precision: 0.9209 - val_auc: 0.9148\n",
            "Epoch 10/50\n",
            "2219/2219 [==============================] - 96s 43ms/step - loss: 0.0201 - binary_accuracy: 0.9953 - f1_score: 0.9056 - hamming_loss: 0.0047 - recall: 0.9931 - precision: 0.9719 - auc: 0.9307 - val_loss: 0.1047 - val_binary_accuracy: 0.9829 - val_f1_score: 0.8726 - val_hamming_loss: 0.0171 - val_recall: 0.9585 - val_precision: 0.9290 - val_auc: 0.9174\n",
            "Epoch 11/50\n",
            "2219/2219 [==============================] - 96s 43ms/step - loss: 0.0179 - binary_accuracy: 0.9959 - f1_score: 0.9164 - hamming_loss: 0.0041 - recall: 0.9941 - precision: 0.9751 - auc: 0.9322 - val_loss: 0.1104 - val_binary_accuracy: 0.9831 - val_f1_score: 0.8663 - val_hamming_loss: 0.0169 - val_recall: 0.9572 - val_precision: 0.9310 - val_auc: 0.9135\n",
            "Epoch 12/50\n",
            "2219/2219 [==============================] - 95s 43ms/step - loss: 0.0180 - binary_accuracy: 0.9958 - f1_score: 0.9137 - hamming_loss: 0.0042 - recall: 0.9940 - precision: 0.9747 - auc: 0.9317 - val_loss: 0.1116 - val_binary_accuracy: 0.9839 - val_f1_score: 0.8702 - val_hamming_loss: 0.0161 - val_recall: 0.9555 - val_precision: 0.9378 - val_auc: 0.9113\n",
            "Epoch 13/50\n",
            "2219/2219 [==============================] - 95s 43ms/step - loss: 0.0182 - binary_accuracy: 0.9958 - f1_score: 0.9113 - hamming_loss: 0.0042 - recall: 0.9940 - precision: 0.9744 - auc: 0.9317 - val_loss: 0.1077 - val_binary_accuracy: 0.9831 - val_f1_score: 0.8719 - val_hamming_loss: 0.0169 - val_recall: 0.9580 - val_precision: 0.9307 - val_auc: 0.9148\n",
            "Epoch 14/50\n",
            "2219/2219 [==============================] - 96s 43ms/step - loss: 0.0172 - binary_accuracy: 0.9960 - f1_score: 0.9166 - hamming_loss: 0.0040 - recall: 0.9944 - precision: 0.9759 - auc: 0.9328 - val_loss: 0.1112 - val_binary_accuracy: 0.9826 - val_f1_score: 0.8642 - val_hamming_loss: 0.0174 - val_recall: 0.9570 - val_precision: 0.9282 - val_auc: 0.9159\n",
            "Epoch 15/50\n",
            "2219/2219 [==============================] - 95s 43ms/step - loss: 0.0187 - binary_accuracy: 0.9956 - f1_score: 0.9128 - hamming_loss: 0.0044 - recall: 0.9936 - precision: 0.9733 - auc: 0.9322 - val_loss: 0.1067 - val_binary_accuracy: 0.9838 - val_f1_score: 0.8720 - val_hamming_loss: 0.0162 - val_recall: 0.9585 - val_precision: 0.9343 - val_auc: 0.9148\n",
            "Epoch 16/50\n",
            "2219/2219 [==============================] - 95s 43ms/step - loss: 0.0184 - binary_accuracy: 0.9957 - f1_score: 0.9132 - hamming_loss: 0.0043 - recall: 0.9940 - precision: 0.9739 - auc: 0.9328 - val_loss: 0.1070 - val_binary_accuracy: 0.9838 - val_f1_score: 0.8611 - val_hamming_loss: 0.0162 - val_recall: 0.9580 - val_precision: 0.9351 - val_auc: 0.9177\n",
            "Epoch 17/50\n",
            "2219/2219 [==============================] - 95s 43ms/step - loss: 0.0173 - binary_accuracy: 0.9960 - f1_score: 0.9081 - hamming_loss: 0.0040 - recall: 0.9944 - precision: 0.9755 - auc: 0.9323 - val_loss: 0.1093 - val_binary_accuracy: 0.9833 - val_f1_score: 0.8683 - val_hamming_loss: 0.0167 - val_recall: 0.9562 - val_precision: 0.9336 - val_auc: 0.9184\n",
            "Epoch 18/50\n",
            "2219/2219 [==============================] - 94s 42ms/step - loss: 0.0186 - binary_accuracy: 0.9956 - f1_score: 0.9143 - hamming_loss: 0.0044 - recall: 0.9937 - precision: 0.9735 - auc: 0.9323 - val_loss: 0.1091 - val_binary_accuracy: 0.9841 - val_f1_score: 0.8824 - val_hamming_loss: 0.0159 - val_recall: 0.9566 - val_precision: 0.9378 - val_auc: 0.9183\n",
            "Epoch 19/50\n",
            "2219/2219 [==============================] - 94s 43ms/step - loss: 0.0180 - binary_accuracy: 0.9957 - f1_score: 0.9148 - hamming_loss: 0.0043 - recall: 0.9940 - precision: 0.9742 - auc: 0.9317 - val_loss: 0.1076 - val_binary_accuracy: 0.9822 - val_f1_score: 0.8621 - val_hamming_loss: 0.0178 - val_recall: 0.9581 - val_precision: 0.9252 - val_auc: 0.9153\n",
            "Epoch 20/50\n",
            "2219/2219 [==============================] - 95s 43ms/step - loss: 0.0168 - binary_accuracy: 0.9961 - f1_score: 0.9153 - hamming_loss: 0.0039 - recall: 0.9946 - precision: 0.9765 - auc: 0.9324 - val_loss: 0.1038 - val_binary_accuracy: 0.9835 - val_f1_score: 0.8660 - val_hamming_loss: 0.0165 - val_recall: 0.9605 - val_precision: 0.9308 - val_auc: 0.9141\n",
            "Epoch 21/50\n",
            "2219/2219 [==============================] - 95s 43ms/step - loss: 0.0189 - binary_accuracy: 0.9955 - f1_score: 0.9106 - hamming_loss: 0.0045 - recall: 0.9934 - precision: 0.9727 - auc: 0.9312 - val_loss: 0.1074 - val_binary_accuracy: 0.9827 - val_f1_score: 0.8549 - val_hamming_loss: 0.0173 - val_recall: 0.9593 - val_precision: 0.9272 - val_auc: 0.9182\n",
            "Epoch 22/50\n",
            "2219/2219 [==============================] - 95s 43ms/step - loss: 0.0156 - binary_accuracy: 0.9964 - f1_score: 0.9150 - hamming_loss: 0.0036 - recall: 0.9952 - precision: 0.9779 - auc: 0.9324 - val_loss: 0.1089 - val_binary_accuracy: 0.9847 - val_f1_score: 0.8737 - val_hamming_loss: 0.0153 - val_recall: 0.9573 - val_precision: 0.9411 - val_auc: 0.9104\n",
            "Epoch 23/50\n",
            "2219/2219 [==============================] - 95s 43ms/step - loss: 0.0180 - binary_accuracy: 0.9957 - f1_score: 0.9097 - hamming_loss: 0.0043 - recall: 0.9938 - precision: 0.9744 - auc: 0.9307 - val_loss: 0.1125 - val_binary_accuracy: 0.9825 - val_f1_score: 0.8623 - val_hamming_loss: 0.0175 - val_recall: 0.9560 - val_precision: 0.9289 - val_auc: 0.9134\n",
            "Epoch 24/50\n",
            "2219/2219 [==============================] - 95s 43ms/step - loss: 0.0183 - binary_accuracy: 0.9957 - f1_score: 0.9123 - hamming_loss: 0.0043 - recall: 0.9937 - precision: 0.9741 - auc: 0.9322 - val_loss: 0.1056 - val_binary_accuracy: 0.9828 - val_f1_score: 0.8665 - val_hamming_loss: 0.0172 - val_recall: 0.9583 - val_precision: 0.9286 - val_auc: 0.9135\n",
            "Epoch 25/50\n",
            "2219/2219 [==============================] - 95s 43ms/step - loss: 0.0165 - binary_accuracy: 0.9961 - f1_score: 0.9121 - hamming_loss: 0.0039 - recall: 0.9947 - precision: 0.9764 - auc: 0.9314 - val_loss: 0.1068 - val_binary_accuracy: 0.9843 - val_f1_score: 0.8753 - val_hamming_loss: 0.0157 - val_recall: 0.9561 - val_precision: 0.9398 - val_auc: 0.9159\n",
            "Epoch 26/50\n",
            "2219/2219 [==============================] - 95s 43ms/step - loss: 0.0165 - binary_accuracy: 0.9962 - f1_score: 0.9172 - hamming_loss: 0.0038 - recall: 0.9946 - precision: 0.9767 - auc: 0.9323 - val_loss: 0.1062 - val_binary_accuracy: 0.9838 - val_f1_score: 0.8739 - val_hamming_loss: 0.0162 - val_recall: 0.9586 - val_precision: 0.9343 - val_auc: 0.9153\n",
            "Epoch 27/50\n",
            "2219/2219 [==============================] - 95s 43ms/step - loss: 0.0203 - binary_accuracy: 0.9951 - f1_score: 0.9025 - hamming_loss: 0.0049 - recall: 0.9929 - precision: 0.9707 - auc: 0.9311 - val_loss: 0.1011 - val_binary_accuracy: 0.9841 - val_f1_score: 0.8733 - val_hamming_loss: 0.0159 - val_recall: 0.9598 - val_precision: 0.9352 - val_auc: 0.9143\n",
            "Epoch 28/50\n",
            "2219/2219 [==============================] - 95s 43ms/step - loss: 0.0175 - binary_accuracy: 0.9959 - f1_score: 0.9129 - hamming_loss: 0.0041 - recall: 0.9942 - precision: 0.9754 - auc: 0.9328 - val_loss: 0.1071 - val_binary_accuracy: 0.9835 - val_f1_score: 0.8791 - val_hamming_loss: 0.0165 - val_recall: 0.9589 - val_precision: 0.9324 - val_auc: 0.9153\n",
            "Epoch 29/50\n",
            "2219/2219 [==============================] - 95s 43ms/step - loss: 0.0163 - binary_accuracy: 0.9962 - f1_score: 0.9192 - hamming_loss: 0.0037 - recall: 0.9948 - precision: 0.9772 - auc: 0.9328 - val_loss: 0.1080 - val_binary_accuracy: 0.9837 - val_f1_score: 0.8685 - val_hamming_loss: 0.0163 - val_recall: 0.9578 - val_precision: 0.9346 - val_auc: 0.9091\n",
            "Epoch 30/50\n",
            "2219/2219 [==============================] - 95s 43ms/step - loss: 0.0182 - binary_accuracy: 0.9957 - f1_score: 0.9122 - hamming_loss: 0.0043 - recall: 0.9937 - precision: 0.9740 - auc: 0.9320 - val_loss: 0.1203 - val_binary_accuracy: 0.9796 - val_f1_score: 0.8402 - val_hamming_loss: 0.0204 - val_recall: 0.9531 - val_precision: 0.9134 - val_auc: 0.9070\n",
            "Epoch 31/50\n",
            "2219/2219 [==============================] - 95s 43ms/step - loss: 0.0171 - binary_accuracy: 0.9959 - f1_score: 0.9167 - hamming_loss: 0.0041 - recall: 0.9944 - precision: 0.9753 - auc: 0.9318 - val_loss: 0.1148 - val_binary_accuracy: 0.9841 - val_f1_score: 0.8690 - val_hamming_loss: 0.0159 - val_recall: 0.9570 - val_precision: 0.9373 - val_auc: 0.9121\n",
            "Epoch 32/50\n",
            "2219/2219 [==============================] - 95s 43ms/step - loss: 0.0156 - binary_accuracy: 0.9963 - f1_score: 0.9180 - hamming_loss: 0.0036 - recall: 0.9951 - precision: 0.9776 - auc: 0.9329 - val_loss: 0.1083 - val_binary_accuracy: 0.9838 - val_f1_score: 0.8700 - val_hamming_loss: 0.0162 - val_recall: 0.9580 - val_precision: 0.9347 - val_auc: 0.9103\n",
            "Epoch 33/50\n",
            "2219/2219 [==============================] - 95s 43ms/step - loss: 0.0202 - binary_accuracy: 0.9950 - f1_score: 0.9066 - hamming_loss: 0.0050 - recall: 0.9929 - precision: 0.9701 - auc: 0.9321 - val_loss: 0.1097 - val_binary_accuracy: 0.9837 - val_f1_score: 0.8719 - val_hamming_loss: 0.0163 - val_recall: 0.9549 - val_precision: 0.9371 - val_auc: 0.9125\n",
            "Epoch 34/50\n",
            "2219/2219 [==============================] - 95s 43ms/step - loss: 0.0153 - binary_accuracy: 0.9965 - f1_score: 0.9174 - hamming_loss: 0.0035 - recall: 0.9954 - precision: 0.9784 - auc: 0.9324 - val_loss: 0.1120 - val_binary_accuracy: 0.9845 - val_f1_score: 0.8632 - val_hamming_loss: 0.0155 - val_recall: 0.9556 - val_precision: 0.9410 - val_auc: 0.9114\n",
            "Epoch 35/50\n",
            "2219/2219 [==============================] - 95s 43ms/step - loss: 0.0172 - binary_accuracy: 0.9960 - f1_score: 0.9113 - hamming_loss: 0.0040 - recall: 0.9943 - precision: 0.9756 - auc: 0.9322 - val_loss: 0.1092 - val_binary_accuracy: 0.9842 - val_f1_score: 0.8748 - val_hamming_loss: 0.0158 - val_recall: 0.9578 - val_precision: 0.9376 - val_auc: 0.9098\n",
            "Epoch 36/50\n",
            "2219/2219 [==============================] - 95s 43ms/step - loss: 0.0178 - binary_accuracy: 0.9958 - f1_score: 0.9124 - hamming_loss: 0.0042 - recall: 0.9940 - precision: 0.9745 - auc: 0.9317 - val_loss: 0.1079 - val_binary_accuracy: 0.9841 - val_f1_score: 0.8650 - val_hamming_loss: 0.0159 - val_recall: 0.9596 - val_precision: 0.9355 - val_auc: 0.9083\n",
            "Epoch 37/50\n",
            "2219/2219 [==============================] - 95s 43ms/step - loss: 0.0164 - binary_accuracy: 0.9961 - f1_score: 0.9138 - hamming_loss: 0.0039 - recall: 0.9948 - precision: 0.9763 - auc: 0.9313 - val_loss: 0.1115 - val_binary_accuracy: 0.9837 - val_f1_score: 0.8695 - val_hamming_loss: 0.0163 - val_recall: 0.9575 - val_precision: 0.9349 - val_auc: 0.9084\n",
            "Epoch 38/50\n",
            "2219/2219 [==============================] - 95s 43ms/step - loss: 0.0166 - binary_accuracy: 0.9961 - f1_score: 0.9121 - hamming_loss: 0.0039 - recall: 0.9946 - precision: 0.9761 - auc: 0.9323 - val_loss: 0.1113 - val_binary_accuracy: 0.9832 - val_f1_score: 0.8690 - val_hamming_loss: 0.0168 - val_recall: 0.9586 - val_precision: 0.9305 - val_auc: 0.9098\n",
            "Epoch 39/50\n",
            "2219/2219 [==============================] - 95s 43ms/step - loss: 0.0165 - binary_accuracy: 0.9961 - f1_score: 0.9146 - hamming_loss: 0.0039 - recall: 0.9946 - precision: 0.9763 - auc: 0.9322 - val_loss: 0.1129 - val_binary_accuracy: 0.9835 - val_f1_score: 0.8686 - val_hamming_loss: 0.0165 - val_recall: 0.9554 - val_precision: 0.9351 - val_auc: 0.9111\n",
            "Epoch 40/50\n",
            "2219/2219 [==============================] - 95s 43ms/step - loss: 0.0170 - binary_accuracy: 0.9960 - f1_score: 0.9133 - hamming_loss: 0.0040 - recall: 0.9944 - precision: 0.9755 - auc: 0.9322 - val_loss: 0.1053 - val_binary_accuracy: 0.9837 - val_f1_score: 0.8758 - val_hamming_loss: 0.0163 - val_recall: 0.9564 - val_precision: 0.9355 - val_auc: 0.9130\n",
            "Epoch 41/50\n",
            "2219/2219 [==============================] - 95s 43ms/step - loss: 0.0170 - binary_accuracy: 0.9960 - f1_score: 0.9121 - hamming_loss: 0.0040 - recall: 0.9944 - precision: 0.9754 - auc: 0.9324 - val_loss: 0.1087 - val_binary_accuracy: 0.9836 - val_f1_score: 0.8627 - val_hamming_loss: 0.0164 - val_recall: 0.9580 - val_precision: 0.9334 - val_auc: 0.9140\n",
            "Epoch 42/50\n",
            "2219/2219 [==============================] - 95s 43ms/step - loss: 0.0166 - binary_accuracy: 0.9962 - f1_score: 0.9144 - hamming_loss: 0.0038 - recall: 0.9946 - precision: 0.9767 - auc: 0.9322 - val_loss: 0.1157 - val_binary_accuracy: 0.9835 - val_f1_score: 0.8715 - val_hamming_loss: 0.0165 - val_recall: 0.9566 - val_precision: 0.9341 - val_auc: 0.9128\n",
            "Epoch 43/50\n",
            "2219/2219 [==============================] - 95s 43ms/step - loss: 0.0168 - binary_accuracy: 0.9960 - f1_score: 0.9124 - hamming_loss: 0.0040 - recall: 0.9945 - precision: 0.9758 - auc: 0.9312 - val_loss: 0.1074 - val_binary_accuracy: 0.9836 - val_f1_score: 0.8658 - val_hamming_loss: 0.0164 - val_recall: 0.9587 - val_precision: 0.9329 - val_auc: 0.9113\n",
            "Epoch 44/50\n",
            "2219/2219 [==============================] - 95s 43ms/step - loss: 0.0175 - binary_accuracy: 0.9958 - f1_score: 0.9136 - hamming_loss: 0.0042 - recall: 0.9943 - precision: 0.9746 - auc: 0.9308 - val_loss: 0.1098 - val_binary_accuracy: 0.9844 - val_f1_score: 0.8622 - val_hamming_loss: 0.0156 - val_recall: 0.9585 - val_precision: 0.9381 - val_auc: 0.9045\n",
            "Epoch 45/50\n",
            "2219/2219 [==============================] - 95s 43ms/step - loss: 0.0163 - binary_accuracy: 0.9961 - f1_score: 0.9158 - hamming_loss: 0.0039 - recall: 0.9947 - precision: 0.9762 - auc: 0.9323 - val_loss: 0.1094 - val_binary_accuracy: 0.9843 - val_f1_score: 0.8660 - val_hamming_loss: 0.0157 - val_recall: 0.9587 - val_precision: 0.9371 - val_auc: 0.9143\n",
            "Epoch 46/50\n",
            "2219/2219 [==============================] - 95s 43ms/step - loss: 0.0167 - binary_accuracy: 0.9960 - f1_score: 0.9162 - hamming_loss: 0.0040 - recall: 0.9944 - precision: 0.9755 - auc: 0.9323 - val_loss: 0.1082 - val_binary_accuracy: 0.9828 - val_f1_score: 0.8659 - val_hamming_loss: 0.0172 - val_recall: 0.9582 - val_precision: 0.9289 - val_auc: 0.9124\n",
            "Epoch 47/50\n",
            "2219/2219 [==============================] - 95s 43ms/step - loss: 0.0164 - binary_accuracy: 0.9961 - f1_score: 0.9138 - hamming_loss: 0.0039 - recall: 0.9947 - precision: 0.9762 - auc: 0.9317 - val_loss: 0.1081 - val_binary_accuracy: 0.9832 - val_f1_score: 0.8615 - val_hamming_loss: 0.0168 - val_recall: 0.9575 - val_precision: 0.9316 - val_auc: 0.9119\n",
            "Epoch 48/50\n",
            "2219/2219 [==============================] - 95s 43ms/step - loss: 0.0164 - binary_accuracy: 0.9961 - f1_score: 0.9139 - hamming_loss: 0.0039 - recall: 0.9946 - precision: 0.9762 - auc: 0.9323 - val_loss: 0.1125 - val_binary_accuracy: 0.9822 - val_f1_score: 0.8589 - val_hamming_loss: 0.0178 - val_recall: 0.9575 - val_precision: 0.9258 - val_auc: 0.9143\n",
            "Epoch 49/50\n",
            "2219/2219 [==============================] - 95s 43ms/step - loss: 0.0166 - binary_accuracy: 0.9961 - f1_score: 0.9149 - hamming_loss: 0.0039 - recall: 0.9946 - precision: 0.9760 - auc: 0.9328 - val_loss: 0.1099 - val_binary_accuracy: 0.9838 - val_f1_score: 0.8637 - val_hamming_loss: 0.0162 - val_recall: 0.9587 - val_precision: 0.9343 - val_auc: 0.9105\n",
            "Epoch 50/50\n",
            "2219/2219 [==============================] - 95s 43ms/step - loss: 0.0171 - binary_accuracy: 0.9960 - f1_score: 0.9112 - hamming_loss: 0.0040 - recall: 0.9944 - precision: 0.9754 - auc: 0.9327 - val_loss: 0.1068 - val_binary_accuracy: 0.9835 - val_f1_score: 0.8730 - val_hamming_loss: 0.0165 - val_recall: 0.9586 - val_precision: 0.9326 - val_auc: 0.9131\n"
          ]
        }
      ]
    }
  ]
}