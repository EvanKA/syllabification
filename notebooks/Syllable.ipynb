{
  "nbformat": 4,
  "nbformat_minor": 0,
  "metadata": {
    "colab": {
      "name": "Syllable",
      "provenance": [],
      "collapsed_sections": [],
      "authorship_tag": "ABX9TyMes8RYZ557NjgTsSPt7M3t"
    },
    "kernelspec": {
      "name": "python3",
      "display_name": "Python 3"
    },
    "language_info": {
      "name": "python"
    },
    "accelerator": "GPU"
  },
  "cells": [
    {
      "cell_type": "markdown",
      "metadata": {
        "id": "CaKQj5AVhKR_"
      },
      "source": [
        "Syllable - Joseph Jojoe"
      ]
    },
    {
      "cell_type": "code",
      "metadata": {
        "colab": {
          "base_uri": "https://localhost:8080/"
        },
        "id": "pUgwfh0oKjss",
        "outputId": "65152d02-caf3-4c1c-89d6-1e0b148b9e0f"
      },
      "source": [
        "!pip install tensorflow_addons"
      ],
      "execution_count": 1,
      "outputs": [
        {
          "output_type": "stream",
          "name": "stdout",
          "text": [
            "Collecting tensorflow_addons\n",
            "  Downloading tensorflow_addons-0.14.0-cp37-cp37m-manylinux_2_12_x86_64.manylinux2010_x86_64.whl (1.1 MB)\n",
            "\u001b[?25l\r\u001b[K     |▎                               | 10 kB 32.8 MB/s eta 0:00:01\r\u001b[K     |▋                               | 20 kB 20.4 MB/s eta 0:00:01\r\u001b[K     |▉                               | 30 kB 15.8 MB/s eta 0:00:01\r\u001b[K     |█▏                              | 40 kB 13.8 MB/s eta 0:00:01\r\u001b[K     |█▌                              | 51 kB 6.4 MB/s eta 0:00:01\r\u001b[K     |█▊                              | 61 kB 6.8 MB/s eta 0:00:01\r\u001b[K     |██                              | 71 kB 7.2 MB/s eta 0:00:01\r\u001b[K     |██▍                             | 81 kB 8.0 MB/s eta 0:00:01\r\u001b[K     |██▋                             | 92 kB 8.4 MB/s eta 0:00:01\r\u001b[K     |███                             | 102 kB 6.4 MB/s eta 0:00:01\r\u001b[K     |███▎                            | 112 kB 6.4 MB/s eta 0:00:01\r\u001b[K     |███▌                            | 122 kB 6.4 MB/s eta 0:00:01\r\u001b[K     |███▉                            | 133 kB 6.4 MB/s eta 0:00:01\r\u001b[K     |████▏                           | 143 kB 6.4 MB/s eta 0:00:01\r\u001b[K     |████▍                           | 153 kB 6.4 MB/s eta 0:00:01\r\u001b[K     |████▊                           | 163 kB 6.4 MB/s eta 0:00:01\r\u001b[K     |█████                           | 174 kB 6.4 MB/s eta 0:00:01\r\u001b[K     |█████▎                          | 184 kB 6.4 MB/s eta 0:00:01\r\u001b[K     |█████▋                          | 194 kB 6.4 MB/s eta 0:00:01\r\u001b[K     |██████                          | 204 kB 6.4 MB/s eta 0:00:01\r\u001b[K     |██████▏                         | 215 kB 6.4 MB/s eta 0:00:01\r\u001b[K     |██████▌                         | 225 kB 6.4 MB/s eta 0:00:01\r\u001b[K     |██████▉                         | 235 kB 6.4 MB/s eta 0:00:01\r\u001b[K     |███████                         | 245 kB 6.4 MB/s eta 0:00:01\r\u001b[K     |███████▍                        | 256 kB 6.4 MB/s eta 0:00:01\r\u001b[K     |███████▊                        | 266 kB 6.4 MB/s eta 0:00:01\r\u001b[K     |████████                        | 276 kB 6.4 MB/s eta 0:00:01\r\u001b[K     |████████▎                       | 286 kB 6.4 MB/s eta 0:00:01\r\u001b[K     |████████▋                       | 296 kB 6.4 MB/s eta 0:00:01\r\u001b[K     |████████▉                       | 307 kB 6.4 MB/s eta 0:00:01\r\u001b[K     |█████████▏                      | 317 kB 6.4 MB/s eta 0:00:01\r\u001b[K     |█████████▌                      | 327 kB 6.4 MB/s eta 0:00:01\r\u001b[K     |█████████▊                      | 337 kB 6.4 MB/s eta 0:00:01\r\u001b[K     |██████████                      | 348 kB 6.4 MB/s eta 0:00:01\r\u001b[K     |██████████▍                     | 358 kB 6.4 MB/s eta 0:00:01\r\u001b[K     |██████████▋                     | 368 kB 6.4 MB/s eta 0:00:01\r\u001b[K     |███████████                     | 378 kB 6.4 MB/s eta 0:00:01\r\u001b[K     |███████████▎                    | 389 kB 6.4 MB/s eta 0:00:01\r\u001b[K     |███████████▌                    | 399 kB 6.4 MB/s eta 0:00:01\r\u001b[K     |███████████▉                    | 409 kB 6.4 MB/s eta 0:00:01\r\u001b[K     |████████████▏                   | 419 kB 6.4 MB/s eta 0:00:01\r\u001b[K     |████████████▍                   | 430 kB 6.4 MB/s eta 0:00:01\r\u001b[K     |████████████▊                   | 440 kB 6.4 MB/s eta 0:00:01\r\u001b[K     |█████████████                   | 450 kB 6.4 MB/s eta 0:00:01\r\u001b[K     |█████████████▎                  | 460 kB 6.4 MB/s eta 0:00:01\r\u001b[K     |█████████████▋                  | 471 kB 6.4 MB/s eta 0:00:01\r\u001b[K     |██████████████                  | 481 kB 6.4 MB/s eta 0:00:01\r\u001b[K     |██████████████▏                 | 491 kB 6.4 MB/s eta 0:00:01\r\u001b[K     |██████████████▌                 | 501 kB 6.4 MB/s eta 0:00:01\r\u001b[K     |██████████████▉                 | 512 kB 6.4 MB/s eta 0:00:01\r\u001b[K     |███████████████                 | 522 kB 6.4 MB/s eta 0:00:01\r\u001b[K     |███████████████▍                | 532 kB 6.4 MB/s eta 0:00:01\r\u001b[K     |███████████████▊                | 542 kB 6.4 MB/s eta 0:00:01\r\u001b[K     |████████████████                | 552 kB 6.4 MB/s eta 0:00:01\r\u001b[K     |████████████████▎               | 563 kB 6.4 MB/s eta 0:00:01\r\u001b[K     |████████████████▋               | 573 kB 6.4 MB/s eta 0:00:01\r\u001b[K     |████████████████▉               | 583 kB 6.4 MB/s eta 0:00:01\r\u001b[K     |█████████████████▏              | 593 kB 6.4 MB/s eta 0:00:01\r\u001b[K     |█████████████████▌              | 604 kB 6.4 MB/s eta 0:00:01\r\u001b[K     |█████████████████▊              | 614 kB 6.4 MB/s eta 0:00:01\r\u001b[K     |██████████████████              | 624 kB 6.4 MB/s eta 0:00:01\r\u001b[K     |██████████████████▍             | 634 kB 6.4 MB/s eta 0:00:01\r\u001b[K     |██████████████████▋             | 645 kB 6.4 MB/s eta 0:00:01\r\u001b[K     |███████████████████             | 655 kB 6.4 MB/s eta 0:00:01\r\u001b[K     |███████████████████▎            | 665 kB 6.4 MB/s eta 0:00:01\r\u001b[K     |███████████████████▌            | 675 kB 6.4 MB/s eta 0:00:01\r\u001b[K     |███████████████████▉            | 686 kB 6.4 MB/s eta 0:00:01\r\u001b[K     |████████████████████▏           | 696 kB 6.4 MB/s eta 0:00:01\r\u001b[K     |████████████████████▍           | 706 kB 6.4 MB/s eta 0:00:01\r\u001b[K     |████████████████████▊           | 716 kB 6.4 MB/s eta 0:00:01\r\u001b[K     |█████████████████████           | 727 kB 6.4 MB/s eta 0:00:01\r\u001b[K     |█████████████████████▎          | 737 kB 6.4 MB/s eta 0:00:01\r\u001b[K     |█████████████████████▋          | 747 kB 6.4 MB/s eta 0:00:01\r\u001b[K     |██████████████████████          | 757 kB 6.4 MB/s eta 0:00:01\r\u001b[K     |██████████████████████▏         | 768 kB 6.4 MB/s eta 0:00:01\r\u001b[K     |██████████████████████▌         | 778 kB 6.4 MB/s eta 0:00:01\r\u001b[K     |██████████████████████▉         | 788 kB 6.4 MB/s eta 0:00:01\r\u001b[K     |███████████████████████         | 798 kB 6.4 MB/s eta 0:00:01\r\u001b[K     |███████████████████████▍        | 808 kB 6.4 MB/s eta 0:00:01\r\u001b[K     |███████████████████████▊        | 819 kB 6.4 MB/s eta 0:00:01\r\u001b[K     |████████████████████████        | 829 kB 6.4 MB/s eta 0:00:01\r\u001b[K     |████████████████████████▎       | 839 kB 6.4 MB/s eta 0:00:01\r\u001b[K     |████████████████████████▋       | 849 kB 6.4 MB/s eta 0:00:01\r\u001b[K     |████████████████████████▉       | 860 kB 6.4 MB/s eta 0:00:01\r\u001b[K     |█████████████████████████▏      | 870 kB 6.4 MB/s eta 0:00:01\r\u001b[K     |█████████████████████████▍      | 880 kB 6.4 MB/s eta 0:00:01\r\u001b[K     |█████████████████████████▊      | 890 kB 6.4 MB/s eta 0:00:01\r\u001b[K     |██████████████████████████      | 901 kB 6.4 MB/s eta 0:00:01\r\u001b[K     |██████████████████████████▎     | 911 kB 6.4 MB/s eta 0:00:01\r\u001b[K     |██████████████████████████▋     | 921 kB 6.4 MB/s eta 0:00:01\r\u001b[K     |███████████████████████████     | 931 kB 6.4 MB/s eta 0:00:01\r\u001b[K     |███████████████████████████▏    | 942 kB 6.4 MB/s eta 0:00:01\r\u001b[K     |███████████████████████████▌    | 952 kB 6.4 MB/s eta 0:00:01\r\u001b[K     |███████████████████████████▉    | 962 kB 6.4 MB/s eta 0:00:01\r\u001b[K     |████████████████████████████    | 972 kB 6.4 MB/s eta 0:00:01\r\u001b[K     |████████████████████████████▍   | 983 kB 6.4 MB/s eta 0:00:01\r\u001b[K     |████████████████████████████▊   | 993 kB 6.4 MB/s eta 0:00:01\r\u001b[K     |█████████████████████████████   | 1.0 MB 6.4 MB/s eta 0:00:01\r\u001b[K     |█████████████████████████████▎  | 1.0 MB 6.4 MB/s eta 0:00:01\r\u001b[K     |█████████████████████████████▋  | 1.0 MB 6.4 MB/s eta 0:00:01\r\u001b[K     |█████████████████████████████▉  | 1.0 MB 6.4 MB/s eta 0:00:01\r\u001b[K     |██████████████████████████████▏ | 1.0 MB 6.4 MB/s eta 0:00:01\r\u001b[K     |██████████████████████████████▌ | 1.1 MB 6.4 MB/s eta 0:00:01\r\u001b[K     |██████████████████████████████▊ | 1.1 MB 6.4 MB/s eta 0:00:01\r\u001b[K     |███████████████████████████████ | 1.1 MB 6.4 MB/s eta 0:00:01\r\u001b[K     |███████████████████████████████▍| 1.1 MB 6.4 MB/s eta 0:00:01\r\u001b[K     |███████████████████████████████▋| 1.1 MB 6.4 MB/s eta 0:00:01\r\u001b[K     |████████████████████████████████| 1.1 MB 6.4 MB/s eta 0:00:01\r\u001b[K     |████████████████████████████████| 1.1 MB 6.4 MB/s \n",
            "\u001b[?25hRequirement already satisfied: typeguard>=2.7 in /usr/local/lib/python3.7/dist-packages (from tensorflow_addons) (2.7.1)\n",
            "Installing collected packages: tensorflow-addons\n",
            "Successfully installed tensorflow-addons-0.14.0\n"
          ]
        }
      ]
    },
    {
      "cell_type": "code",
      "metadata": {
        "id": "csu57YRLhUPe"
      },
      "source": [
        "# Imports dependencies\n",
        "from google.colab import files\n",
        "import tensorflow as tf\n",
        "from tensorflow import keras\n",
        "from tensorflow.keras import layers\n",
        "import tensorflow_addons as tfa\n",
        "from tensorflow.keras import regularizers\n",
        "from keras.models import Model\n",
        "import pathlib\n",
        "import os\n",
        "import matplotlib.pyplot as plt\n",
        "import pandas as pd\n",
        "import numpy as np\n",
        "import string\n",
        "import random\n",
        "from keras.preprocessing.text import Tokenizer"
      ],
      "execution_count": 2,
      "outputs": []
    },
    {
      "cell_type": "code",
      "metadata": {
        "colab": {
          "resources": {
            "http://localhost:8080/nbextensions/google.colab/files.js": {
              "data": "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",
              "ok": true,
              "headers": [
                [
                  "content-type",
                  "application/javascript"
                ]
              ],
              "status": 200,
              "status_text": ""
            }
          },
          "base_uri": "https://localhost:8080/",
          "height": 73
        },
        "id": "jpAxHCsohese",
        "outputId": "0a34de74-e1f1-4079-e8ae-fb6c173a6b4c"
      },
      "source": [
        "uploaded = files.upload()\n",
        "# Upload dataset"
      ],
      "execution_count": 3,
      "outputs": [
        {
          "output_type": "display_data",
          "data": {
            "text/html": [
              "\n",
              "     <input type=\"file\" id=\"files-9636d90a-e3ed-4bef-9d50-d117cd87719e\" name=\"files[]\" multiple disabled\n",
              "        style=\"border:none\" />\n",
              "     <output id=\"result-9636d90a-e3ed-4bef-9d50-d117cd87719e\">\n",
              "      Upload widget is only available when the cell has been executed in the\n",
              "      current browser session. Please rerun this cell to enable.\n",
              "      </output>\n",
              "      <script src=\"/nbextensions/google.colab/files.js\"></script> "
            ],
            "text/plain": [
              "<IPython.core.display.HTML object>"
            ]
          },
          "metadata": {}
        },
        {
          "output_type": "stream",
          "name": "stdout",
          "text": [
            "Saving preprocessed.txt to preprocessed.txt\n"
          ]
        }
      ]
    },
    {
      "cell_type": "code",
      "metadata": {
        "id": "vjbfSUbohytB"
      },
      "source": [
        "# Loads in syllable data\n",
        "dataframe = pd.read_csv(\"preprocessed.txt\",\n",
        "                        sep=\",\",\n",
        "                        encoding=\"ISO-8859-1\",\n",
        "                        names=[\"word\", \"label\"])\n",
        "# Necessary to specify str type for pandas columns\n",
        "dataframe = dataframe.astype(str)\n",
        "words = dataframe['word'].tolist()\n",
        "labels = dataframe['label'].tolist()\n",
        "# Converts each label to numpy array\n",
        "for i in range(0, len(labels)):\n",
        "    labels[i] = list(labels[i])\n",
        "    for j in range(0, len(labels[i])):\n",
        "        labels[i][j] = int(labels[i][j])\n",
        "for i in range(0, len(labels)):\n",
        "    labels[i] = np.array(labels[i])"
      ],
      "execution_count": 4,
      "outputs": []
    },
    {
      "cell_type": "code",
      "metadata": {
        "id": "6gDS7CtLiAIj"
      },
      "source": [
        "# Vectorises syllable strings by treating each character as a token\n",
        "tokenizer = Tokenizer(char_level=True)\n",
        "tokenizer.fit_on_texts(words)\n",
        "words = tokenizer.texts_to_sequences(words)\n",
        "for i in range(0, len(words)):\n",
        "    words[i] = np.array(words[i], dtype=float)\n",
        "\n",
        "padded_inputs = tf.keras.preprocessing.sequence.pad_sequences(\n",
        "    words, padding=\"post\", maxlen=15\n",
        ")\n",
        "padded_outputs = tf.keras.preprocessing.sequence.pad_sequences(\n",
        "    labels, padding=\"post\", maxlen=15\n",
        ")\n",
        "\n",
        "# Normalisation\n",
        "maximum_token = 64\n",
        "for element in range(0, len(words)):\n",
        "    words[element] = words[element] / maximum_token"
      ],
      "execution_count": 5,
      "outputs": []
    },
    {
      "cell_type": "code",
      "metadata": {
        "id": "jgZKQGe1iFpj"
      },
      "source": [
        "# shuffles data\n",
        "seed = random.random()\n",
        "random.seed(seed)\n",
        "random.shuffle(padded_inputs)\n",
        "random.seed(seed)\n",
        "random.shuffle(padded_outputs)\n",
        "\n",
        "# splits into training and validation sets (80-20 split)\n",
        "validation_inputs = padded_inputs[-35497:]\n",
        "validation_outputs = padded_outputs[-35497:]\n",
        "padded_inputs = padded_inputs[:-35497]\n",
        "padded_outputs = padded_outputs[:-35497]"
      ],
      "execution_count": 6,
      "outputs": []
    },
    {
      "cell_type": "code",
      "metadata": {
        "id": "YQezB-7cRHOC"
      },
      "source": [
        "# Custom loss function - mean of binary crossentropy and mean squared error\n",
        "def mean_weighted_bce_mse(y_true, y_prediction):\n",
        "    y_true = tf.cast(y_true, tf.float32)\n",
        "    y_prediction = tf.cast(y_prediction, tf.float32)\n",
        "\n",
        "    # Binary crossentropy with weighting\n",
        "    epsilon = 1e-6\n",
        "    positive_weight = 4.108897148948174\n",
        "    loss_positive = y_true * tf.math.log(y_prediction + epsilon)\n",
        "    loss_negative = (1 - y_true) * tf.math.log(1 - y_prediction + epsilon)\n",
        "    bce_loss = tf.math.reduce_mean(tf.math.negative(positive_weight * loss_positive + loss_negative))\n",
        "    \n",
        "    # Mean squared error\n",
        "    mse = tf.keras.losses.MeanSquaredError()\n",
        "    mse_loss = mse(y_true, y_prediction)\n",
        "\n",
        "    averaged_bce_mse = (bce_loss + mse_loss) / 2\n",
        "    return averaged_bce_mse"
      ],
      "execution_count": 7,
      "outputs": []
    },
    {
      "cell_type": "code",
      "metadata": {
        "id": "Df2UpqpKl16x"
      },
      "source": [
        "def inception_module(inputs):\n",
        "    inception_branch_1 = tf.keras.layers.Conv1D(128, kernel_size=1, strides=2, activation=\"tanh\", activity_regularizer=tf.keras.regularizers.l2(1e-5))(inputs)\n",
        "    inception_branch_1 = tf.keras.layers.ZeroPadding1D(padding=(0, 15 - inception_branch_1.shape[1]))(inception_branch_1)\n",
        "\n",
        "    inception_branch_2 = tf.keras.layers.Conv1D(128, kernel_size=1, activation=\"tanh\", activity_regularizer=tf.keras.regularizers.l2(1e-5))(inputs)\n",
        "    inception_branch_2 = tf.keras.layers.Conv1D(128, kernel_size=3, strides=2, activation=\"tanh\", activity_regularizer=tf.keras.regularizers.l2(1e-5))(inception_branch_2)\n",
        "    inception_branch_2 = tf.keras.layers.ZeroPadding1D(padding=(0, 15 - inception_branch_2.shape[1]))(inception_branch_2)\n",
        "\n",
        "    inception_branch_3 = tf.keras.layers.AveragePooling1D(pool_size=3, strides=2)(inputs)\n",
        "    inception_branch_3 = tf.keras.layers.Conv1D(128, kernel_size=3, activation=\"tanh\", activity_regularizer=tf.keras.regularizers.l2(1e-5))(inception_branch_3)\n",
        "    inception_branch_3 = tf.keras.layers.ZeroPadding1D(padding=(0, 15 - inception_branch_3.shape[1]))(inception_branch_3)\n",
        "\n",
        "    inception_branch_4 = tf.keras.layers.Conv1D(128, kernel_size=1, activation=\"tanh\", activity_regularizer=tf.keras.regularizers.l2(1e-5))(inputs)\n",
        "    inception_branch_4 = tf.keras.layers.Conv1D(128, kernel_size=3, activation=\"tanh\", activity_regularizer=tf.keras.regularizers.l2(1e-5))(inception_branch_4)\n",
        "    inception_branch_4 = tf.keras.layers.Conv1D(128, kernel_size=3, strides=2, activation=\"tanh\", activity_regularizer=tf.keras.regularizers.l2(1e-5))(inception_branch_4)\n",
        "    inception_branch_4 = tf.keras.layers.ZeroPadding1D(padding=(0, 15 - inception_branch_4.shape[1]))(inception_branch_4)\n",
        "\n",
        "    inception_output = tf.keras.layers.concatenate([inception_branch_1, inception_branch_2, inception_branch_3, inception_branch_4, inputs])\n",
        "    return inception_output"
      ],
      "execution_count": 8,
      "outputs": []
    },
    {
      "cell_type": "code",
      "metadata": {
        "id": "EOip602ziQok"
      },
      "source": [
        "inputs = tf.keras.Input(shape=(15,))\n",
        "embedded_inputs = tf.keras.layers.Embedding(64, 256, mask_zero=True)(inputs)\n",
        "rnn_embedded_inputs = tf.keras.layers.Dropout(0.25)(embedded_inputs)\n",
        "\n",
        "x = tf.keras.layers.Bidirectional(tf.keras.layers.GRU(256, return_sequences=True, dropout=0.1, activity_regularizer=tf.keras.regularizers.l2(1e-5)))(rnn_embedded_inputs)\n",
        "x = tf.keras.layers.concatenate([x, embedded_inputs])\n",
        "x = tf.keras.layers.Bidirectional(tf.keras.layers.GRU(256, return_sequences=True, dropout=0.1, activity_regularizer=tf.keras.regularizers.l2(1e-5)))(x)\n",
        "x = tf.keras.layers.concatenate([x, embedded_inputs])\n",
        "x = tf.keras.layers.Bidirectional(tf.keras.layers.GRU(256, return_sequences=True, activity_regularizer=tf.keras.regularizers.l2(1e-5)))(x)\n",
        "\n",
        "inception_output = inception_module(embedded_inputs)\n",
        "inception_output = tf.keras.layers.MaxPooling1D()(inception_output)\n",
        "inception_output =  tf.keras.layers.ZeroPadding1D(padding=(0, 15 - inception_output.shape[1]))(inception_output)\n",
        "inception_output = inception_module(inception_output)\n",
        "inception_output = tf.keras.layers.MaxPooling1D()(inception_output)\n",
        "inception_output =  tf.keras.layers.ZeroPadding1D(padding=(0, 15 - inception_output.shape[1]))(inception_output)\n",
        "\n",
        "output = tf.keras.layers.concatenate([x, inception_output, embedded_inputs])\n",
        "output = tf.keras.layers.TimeDistributed(tf.keras.layers.Dense(256, activation=\"relu\"))(output)\n",
        "output = tf.keras.layers.TimeDistributed(tf.keras.layers.Dense(64, activation=\"relu\"))(output)\n",
        "output = tf.keras.layers.GlobalMaxPool1D()(output)\n",
        "output = tf.keras.layers.Dense(15, activation=\"sigmoid\")(output)\n",
        "\n",
        "metrics = [\"binary_accuracy\",\n",
        "           tfa.metrics.F1Score(num_classes=15, threshold=0.5),\n",
        "           tfa.metrics.HammingLoss(mode='multilabel', threshold=0.5),\n",
        "           tf.keras.metrics.Recall(),\n",
        "           tf.keras.metrics.Precision(),\n",
        "           tf.keras.metrics.AUC(multi_label=True, num_labels=15)]\n",
        "\n",
        "model = tf.keras.models.Model(inputs=inputs, outputs=output)\n",
        "model.compile(optimizer=\"adam\",\n",
        "              loss=mean_weighted_bce_mse,\n",
        "              metrics=metrics,\n",
        "              steps_per_execution=128)"
      ],
      "execution_count": 10,
      "outputs": []
    },
    {
      "cell_type": "code",
      "metadata": {
        "id": "rM_seEmJg7ux"
      },
      "source": [
        "model.summary()"
      ],
      "execution_count": null,
      "outputs": []
    },
    {
      "cell_type": "code",
      "metadata": {
        "colab": {
          "base_uri": "https://localhost:8080/"
        },
        "id": "5_CQt-B_ibtm",
        "outputId": "d87027f0-26f4-4225-b118-6558cfd0247a"
      },
      "source": [
        "history = model.fit(padded_inputs,\n",
        "                    padded_outputs,\n",
        "                    validation_data=(validation_inputs, validation_outputs),\n",
        "                    epochs=10,\n",
        "                    batch_size=64)"
      ],
      "execution_count": 15,
      "outputs": [
        {
          "output_type": "stream",
          "name": "stdout",
          "text": [
            "Epoch 1/10\n",
            "2219/2219 [==============================] - 93s 42ms/step - loss: 0.0196 - binary_accuracy: 0.9953 - f1_score: 0.9147 - hamming_loss: 0.0047 - recall: 0.9934 - precision: 0.9720 - auc: 0.9322 - val_loss: 0.1022 - val_binary_accuracy: 0.9815 - val_f1_score: 0.8601 - val_hamming_loss: 0.0185 - val_recall: 0.9561 - val_precision: 0.9220 - val_auc: 0.9113\n",
            "Epoch 2/10\n",
            "2219/2219 [==============================] - 92s 42ms/step - loss: 0.0192 - binary_accuracy: 0.9954 - f1_score: 0.9140 - hamming_loss: 0.0046 - recall: 0.9935 - precision: 0.9722 - auc: 0.9328 - val_loss: 0.1044 - val_binary_accuracy: 0.9813 - val_f1_score: 0.8658 - val_hamming_loss: 0.0187 - val_recall: 0.9551 - val_precision: 0.9216 - val_auc: 0.9127\n",
            "Epoch 3/10\n",
            "2219/2219 [==============================] - 92s 42ms/step - loss: 0.0193 - binary_accuracy: 0.9953 - f1_score: 0.9114 - hamming_loss: 0.0047 - recall: 0.9936 - precision: 0.9720 - auc: 0.9328 - val_loss: 0.1090 - val_binary_accuracy: 0.9822 - val_f1_score: 0.8568 - val_hamming_loss: 0.0178 - val_recall: 0.9552 - val_precision: 0.9267 - val_auc: 0.9119\n",
            "Epoch 4/10\n",
            "2219/2219 [==============================] - 92s 42ms/step - loss: 0.0189 - binary_accuracy: 0.9955 - f1_score: 0.9119 - hamming_loss: 0.0045 - recall: 0.9936 - precision: 0.9730 - auc: 0.9328 - val_loss: 0.1137 - val_binary_accuracy: 0.9813 - val_f1_score: 0.8513 - val_hamming_loss: 0.0187 - val_recall: 0.9531 - val_precision: 0.9235 - val_auc: 0.9063\n",
            "Epoch 5/10\n",
            "2219/2219 [==============================] - 92s 42ms/step - loss: 0.0191 - binary_accuracy: 0.9954 - f1_score: 0.9077 - hamming_loss: 0.0046 - recall: 0.9936 - precision: 0.9727 - auc: 0.9321 - val_loss: 0.1069 - val_binary_accuracy: 0.9822 - val_f1_score: 0.8602 - val_hamming_loss: 0.0178 - val_recall: 0.9514 - val_precision: 0.9304 - val_auc: 0.9083\n",
            "Epoch 6/10\n",
            "2219/2219 [==============================] - 92s 42ms/step - loss: 0.0181 - binary_accuracy: 0.9957 - f1_score: 0.9116 - hamming_loss: 0.0043 - recall: 0.9942 - precision: 0.9739 - auc: 0.9322 - val_loss: 0.1090 - val_binary_accuracy: 0.9820 - val_f1_score: 0.8628 - val_hamming_loss: 0.0180 - val_recall: 0.9560 - val_precision: 0.9252 - val_auc: 0.9137\n",
            "Epoch 7/10\n",
            "2219/2219 [==============================] - 92s 42ms/step - loss: 0.0187 - binary_accuracy: 0.9955 - f1_score: 0.9098 - hamming_loss: 0.0045 - recall: 0.9938 - precision: 0.9729 - auc: 0.9322 - val_loss: 0.1055 - val_binary_accuracy: 0.9818 - val_f1_score: 0.8619 - val_hamming_loss: 0.0182 - val_recall: 0.9547 - val_precision: 0.9248 - val_auc: 0.9133\n",
            "Epoch 8/10\n",
            "2219/2219 [==============================] - 92s 42ms/step - loss: 0.0188 - binary_accuracy: 0.9954 - f1_score: 0.9094 - hamming_loss: 0.0045 - recall: 0.9938 - precision: 0.9726 - auc: 0.9322 - val_loss: 0.1019 - val_binary_accuracy: 0.9821 - val_f1_score: 0.8644 - val_hamming_loss: 0.0179 - val_recall: 0.9571 - val_precision: 0.9247 - val_auc: 0.9127\n",
            "Epoch 9/10\n",
            "2219/2219 [==============================] - 93s 42ms/step - loss: 0.0177 - binary_accuracy: 0.9958 - f1_score: 0.9152 - hamming_loss: 0.0042 - recall: 0.9944 - precision: 0.9747 - auc: 0.9328 - val_loss: 0.1130 - val_binary_accuracy: 0.9824 - val_f1_score: 0.8517 - val_hamming_loss: 0.0176 - val_recall: 0.9523 - val_precision: 0.9310 - val_auc: 0.9025\n",
            "Epoch 10/10\n",
            "2219/2219 [==============================] - 92s 42ms/step - loss: 0.0180 - binary_accuracy: 0.9957 - f1_score: 0.9147 - hamming_loss: 0.0043 - recall: 0.9941 - precision: 0.9740 - auc: 0.9315 - val_loss: 0.1122 - val_binary_accuracy: 0.9800 - val_f1_score: 0.8621 - val_hamming_loss: 0.0200 - val_recall: 0.9514 - val_precision: 0.9168 - val_auc: 0.9151\n"
          ]
        }
      ]
    }
  ]
}